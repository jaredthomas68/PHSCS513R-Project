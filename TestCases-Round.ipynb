{
 "cells": [
  {
   "cell_type": "code",
   "execution_count": 1,
   "metadata": {},
   "outputs": [
    {
     "name": "stderr",
     "output_type": "stream",
     "text": [
      "┌ Info: Precompiling FlowFarm [eb2d4cfc-2064-11ea-0a1c-63d372e6a848]\n",
      "└ @ Base loading.jl:1260\n",
      "┌ Warning: Package FlowFarm does not have CCBlade in its dependencies:\n",
      "│ - If you have FlowFarm checked out for development and have\n",
      "│   added CCBlade as a dependency but haven't updated your primary\n",
      "│   environment's manifest file, try `Pkg.resolve()`.\n",
      "│ - Otherwise you may need to report an issue with FlowFarm\n",
      "└ Loading CCBlade into FlowFarm from project dependency, future warnings for FlowFarm are suppressed.\n"
     ]
    },
    {
     "data": {
      "text/plain": [
       "FlowFarm"
      ]
     },
     "execution_count": 1,
     "metadata": {},
     "output_type": "execute_result"
    }
   ],
   "source": [
    "using DelimitedFiles \n",
    "using PyPlot\n",
    "using Printf\n",
    "import FlowFarm; const ff = FlowFarm"
   ]
  },
  {
   "cell_type": "markdown",
   "metadata": {},
   "source": [
    "# Round"
   ]
  },
  {
   "cell_type": "markdown",
   "metadata": {},
   "source": [
    "## 12 directions"
   ]
  },
  {
   "cell_type": "markdown",
   "metadata": {},
   "source": [
    "### Set Up"
   ]
  },
  {
   "cell_type": "code",
   "execution_count": 2,
   "metadata": {},
   "outputs": [],
   "source": [
    "# include case information\n",
    "include(\"./inputfiles/model_set_9_38turb_12dir_round_farm.jl\");"
   ]
  },
  {
   "cell_type": "markdown",
   "metadata": {},
   "source": [
    "### Run TIP Model"
   ]
  },
  {
   "cell_type": "code",
   "execution_count": 3,
   "metadata": {},
   "outputs": [
    {
     "data": {
      "text/plain": [
       "1.766993833025154e11"
      ]
     },
     "execution_count": 3,
     "metadata": {},
     "output_type": "execute_result"
    }
   ],
   "source": [
    "AEPTIP = ff.tip_get_aep(turbine_x,turbine_y,wind_data,cpdata, ctdata, r0=diam/2.0)"
   ]
  },
  {
   "cell_type": "markdown",
   "metadata": {},
   "source": [
    "### Run FLOWFarm - Jensen TopHat Model"
   ]
  },
  {
   "cell_type": "code",
   "execution_count": 4,
   "metadata": {},
   "outputs": [
    {
     "data": {
      "text/plain": [
       "2.063563314949788e11"
      ]
     },
     "execution_count": 4,
     "metadata": {},
     "output_type": "execute_result"
    }
   ],
   "source": [
    "wakedeficitmodel = ff.JensenTopHat()\n",
    "wakedeflectionmodel = ff.JiminezYawDeflection()\n",
    "wakecombinationmodel = ff.SumOfSquaresLocalVelocitySuperposition()\n",
    "localtimodel = ff.LocalTIModelNoLocalTI()\n",
    "model_set = ff.WindFarmModelSet(wakedeficitmodel, wakedeflectionmodel, wakecombinationmodel, localtimodel)\n",
    "\n",
    "AEPJTH = ff.calculate_aep(turbine_x, turbine_y, turbine_z, rotor_diameter,\n",
    "                hub_height, turbine_yaw, ct_models, generator_efficiency, cut_in_speed,\n",
    "                cut_out_speed, rated_speed, rated_power, windresource, power_models, model_set,\n",
    "                rotor_sample_points_y=rotor_points_y,rotor_sample_points_z=rotor_points_z)"
   ]
  },
  {
   "cell_type": "markdown",
   "metadata": {},
   "source": [
    "### Run FLOWFarm - Jensen Cosine Model"
   ]
  },
  {
   "cell_type": "code",
   "execution_count": 5,
   "metadata": {},
   "outputs": [
    {
     "data": {
      "text/plain": [
       "1.1294168535272508e11"
      ]
     },
     "execution_count": 5,
     "metadata": {},
     "output_type": "execute_result"
    }
   ],
   "source": [
    "wakedeficitmodel = ff.JensenCosine()\n",
    "wakedeflectionmodel = ff.JiminezYawDeflection()\n",
    "wakecombinationmodel = ff.SumOfSquaresLocalVelocitySuperposition()\n",
    "localtimodel = ff.LocalTIModelNoLocalTI()\n",
    "model_set = ff.WindFarmModelSet(wakedeficitmodel, wakedeflectionmodel, wakecombinationmodel, localtimodel)\n",
    "\n",
    "AEPJC = ff.calculate_aep(turbine_x, turbine_y, turbine_z, rotor_diameter,\n",
    "                hub_height, turbine_yaw, ct_models, generator_efficiency, cut_in_speed,\n",
    "                cut_out_speed, rated_speed, rated_power, windresource, power_models, model_set,\n",
    "                rotor_sample_points_y=rotor_points_y,rotor_sample_points_z=rotor_points_z)"
   ]
  },
  {
   "cell_type": "markdown",
   "metadata": {},
   "source": [
    "### Run FLOWFarm - Bastankhah Model"
   ]
  },
  {
   "cell_type": "code",
   "execution_count": 6,
   "metadata": {},
   "outputs": [
    {
     "data": {
      "text/plain": [
       "1.689974816296317e11"
      ]
     },
     "execution_count": 6,
     "metadata": {},
     "output_type": "execute_result"
    }
   ],
   "source": [
    "wakedeficitmodel = ff.GaussYaw()\n",
    "wakedeflectionmodel = ff.GaussYawDeflection()\n",
    "wakecombinationmodel = ff.LinearLocalVelocitySuperposition()\n",
    "localtimodel = ff.LocalTIModelMaxTI()\n",
    "model_set = ff.WindFarmModelSet(wakedeficitmodel, wakedeflectionmodel, wakecombinationmodel, localtimodel)\n",
    "\n",
    "AEPB = ff.calculate_aep(turbine_x, turbine_y, turbine_z, rotor_diameter,\n",
    "                hub_height, turbine_yaw, ct_models, generator_efficiency, cut_in_speed,\n",
    "                cut_out_speed, rated_speed, rated_power, windresource, power_models, model_set,\n",
    "                rotor_sample_points_y=rotor_points_y,rotor_sample_points_z=rotor_points_z)"
   ]
  },
  {
   "cell_type": "markdown",
   "metadata": {},
   "source": [
    "### Run FLOWFarm MultiZone Model"
   ]
  },
  {
   "cell_type": "code",
   "execution_count": 7,
   "metadata": {},
   "outputs": [
    {
     "data": {
      "text/plain": [
       "2.1872586471228308e11"
      ]
     },
     "execution_count": 7,
     "metadata": {},
     "output_type": "execute_result"
    }
   ],
   "source": [
    "wakedeficitmodel = ff.Multizone()\n",
    "wakedeflectionmodel = ff.JiminezYawDeflection()\n",
    "wakecombinationmodel = ff.SumOfSquaresLocalVelocitySuperposition()\n",
    "localtimodel = ff.LocalTIModelNoLocalTI()\n",
    "model_set = ff.WindFarmModelSet(wakedeficitmodel, wakedeflectionmodel, wakecombinationmodel, localtimodel)\n",
    "\n",
    "AEPM = ff.calculate_aep(turbine_x, turbine_y, turbine_z, rotor_diameter,\n",
    "                hub_height, turbine_yaw, ct_models, generator_efficiency, cut_in_speed,\n",
    "                cut_out_speed, rated_speed, rated_power, windresource, power_models, model_set,\n",
    "                rotor_sample_points_y=rotor_points_y,rotor_sample_points_z=rotor_points_z)"
   ]
  },
  {
   "cell_type": "markdown",
   "metadata": {},
   "source": [
    "### Compare TIP vs TopHat"
   ]
  },
  {
   "cell_type": "code",
   "execution_count": 8,
   "metadata": {
    "scrolled": true
   },
   "outputs": [
    {
     "name": "stdout",
     "output_type": "stream",
     "text": [
      "TIP AEP: 1.766993833025154e11\n",
      "Jensen Top Hat AEP:   2.063563314949788e11\n",
      "Jensen Cosine AEP:   1.1294168535272508e11\n",
      "Multi-Zone AEP:   2.1872586471228308e11\n",
      "Bastankhah AEP:   1.689974816296317e11\n",
      "Error vs Jensen Top Hat:  -14.372%\n",
      "Error vs Jensen Cosine:   56.452%\n",
      "Error vs Multi-Zone:  -19.214%\n",
      "Error vs Bastankhah:   4.557%\n"
     ]
    }
   ],
   "source": [
    "ErrorTIPvsTopHat = 100*(AEPTIP-AEPJTH)/AEPJTH\n",
    "ErrorTIPvsCosine = 100*(AEPTIP-AEPJC)/AEPJC\n",
    "ErrorTIPvsMultizone = 100*(AEPTIP-AEPM)/AEPM\n",
    "ErrorTIPvsBastankhah = 100*(AEPTIP-AEPB)/AEPB\n",
    "println(\"TIP AEP: \", AEPTIP)\n",
    "println(\"Jensen Top Hat AEP:   \", AEPJTH)\n",
    "println(\"Jensen Cosine AEP:   \", AEPJC)\n",
    "println(\"Multi-Zone AEP:   \", AEPM)\n",
    "println(\"Bastankhah AEP:   \", AEPB)\n",
    "@printf(\"Error vs Jensen Top Hat:  %.3f%%\\n\", ErrorTIPvsTopHat)\n",
    "@printf(\"Error vs Jensen Cosine:   %.3f%%\\n\", ErrorTIPvsCosine)\n",
    "@printf(\"Error vs Multi-Zone:  %.3f%%\\n\", ErrorTIPvsMultizone)\n",
    "@printf(\"Error vs Bastankhah:   %.3f%%\\n\", ErrorTIPvsBastankhah)"
   ]
  },
  {
   "cell_type": "markdown",
   "metadata": {},
   "source": [
    "## 36 directions"
   ]
  },
  {
   "cell_type": "markdown",
   "metadata": {},
   "source": [
    "### Set Up"
   ]
  },
  {
   "cell_type": "code",
   "execution_count": 9,
   "metadata": {},
   "outputs": [],
   "source": [
    "# include case information\n",
    "include(\"./inputfiles/model_set_9_38turb_36dir_round_farm.jl\");"
   ]
  },
  {
   "cell_type": "markdown",
   "metadata": {},
   "source": [
    "### Run TIP Model"
   ]
  },
  {
   "cell_type": "code",
   "execution_count": 10,
   "metadata": {},
   "outputs": [
    {
     "data": {
      "text/plain": [
       "5.4247163582650345e10"
      ]
     },
     "execution_count": 10,
     "metadata": {},
     "output_type": "execute_result"
    }
   ],
   "source": [
    "AEPTIP = ff.tip_get_aep(turbine_x,turbine_y,wind_data,cpdata, ctdata,r0=diam/2.0)"
   ]
  },
  {
   "cell_type": "markdown",
   "metadata": {},
   "source": [
    "### Run FLOWFarm - Jensen TopHat Model"
   ]
  },
  {
   "cell_type": "code",
   "execution_count": 11,
   "metadata": {},
   "outputs": [
    {
     "data": {
      "text/plain": [
       "6.814580788138366e10"
      ]
     },
     "execution_count": 11,
     "metadata": {},
     "output_type": "execute_result"
    }
   ],
   "source": [
    "wakedeficitmodel = ff.JensenTopHat()\n",
    "wakedeflectionmodel = ff.JiminezYawDeflection()\n",
    "wakecombinationmodel = ff.SumOfSquaresLocalVelocitySuperposition()\n",
    "localtimodel = ff.LocalTIModelNoLocalTI()\n",
    "model_set = ff.WindFarmModelSet(wakedeficitmodel, wakedeflectionmodel, wakecombinationmodel, localtimodel)\n",
    "\n",
    "AEPJTH = ff.calculate_aep(turbine_x, turbine_y, turbine_z, rotor_diameter,\n",
    "                hub_height, turbine_yaw, ct_models, generator_efficiency, cut_in_speed,\n",
    "                cut_out_speed, rated_speed, rated_power, windresource, power_models, model_set,\n",
    "                rotor_sample_points_y=rotor_points_y,rotor_sample_points_z=rotor_points_z)"
   ]
  },
  {
   "cell_type": "markdown",
   "metadata": {},
   "source": [
    "### Run FLOWFarm - Jensen Cosine Model"
   ]
  },
  {
   "cell_type": "code",
   "execution_count": 12,
   "metadata": {},
   "outputs": [
    {
     "data": {
      "text/plain": [
       "3.485464745806654e10"
      ]
     },
     "execution_count": 12,
     "metadata": {},
     "output_type": "execute_result"
    }
   ],
   "source": [
    "wakedeficitmodel = ff.JensenCosine()\n",
    "wakedeflectionmodel = ff.JiminezYawDeflection()\n",
    "wakecombinationmodel = ff.SumOfSquaresLocalVelocitySuperposition()\n",
    "localtimodel = ff.LocalTIModelNoLocalTI()\n",
    "model_set = ff.WindFarmModelSet(wakedeficitmodel, wakedeflectionmodel, wakecombinationmodel, localtimodel)\n",
    "\n",
    "AEPJC = ff.calculate_aep(turbine_x, turbine_y, turbine_z, rotor_diameter,\n",
    "                hub_height, turbine_yaw, ct_models, generator_efficiency, cut_in_speed,\n",
    "                cut_out_speed, rated_speed, rated_power, windresource, power_models, model_set,\n",
    "                rotor_sample_points_y=rotor_points_y,rotor_sample_points_z=rotor_points_z)"
   ]
  },
  {
   "cell_type": "markdown",
   "metadata": {},
   "source": [
    "### Run FLOWFarm - Bastankhah Model"
   ]
  },
  {
   "cell_type": "code",
   "execution_count": 13,
   "metadata": {},
   "outputs": [
    {
     "data": {
      "text/plain": [
       "5.211596064185484e10"
      ]
     },
     "execution_count": 13,
     "metadata": {},
     "output_type": "execute_result"
    }
   ],
   "source": [
    "wakedeficitmodel = ff.GaussYaw()\n",
    "wakedeflectionmodel = ff.GaussYawDeflection()\n",
    "wakecombinationmodel = ff.LinearLocalVelocitySuperposition()\n",
    "localtimodel = ff.LocalTIModelMaxTI()\n",
    "model_set = ff.WindFarmModelSet(wakedeficitmodel, wakedeflectionmodel, wakecombinationmodel, localtimodel)\n",
    "\n",
    "AEPB = ff.calculate_aep(turbine_x, turbine_y, turbine_z, rotor_diameter,\n",
    "                hub_height, turbine_yaw, ct_models, generator_efficiency, cut_in_speed,\n",
    "                cut_out_speed, rated_speed, rated_power, windresource, power_models, model_set,\n",
    "                rotor_sample_points_y=rotor_points_y,rotor_sample_points_z=rotor_points_z)"
   ]
  },
  {
   "cell_type": "markdown",
   "metadata": {},
   "source": [
    "### Run FLOWFarm MultiZone Model"
   ]
  },
  {
   "cell_type": "code",
   "execution_count": 14,
   "metadata": {},
   "outputs": [
    {
     "data": {
      "text/plain": [
       "7.140181038618155e10"
      ]
     },
     "execution_count": 14,
     "metadata": {},
     "output_type": "execute_result"
    }
   ],
   "source": [
    "wakedeficitmodel = ff.Multizone()\n",
    "wakedeflectionmodel = ff.JiminezYawDeflection()\n",
    "wakecombinationmodel = ff.SumOfSquaresLocalVelocitySuperposition()\n",
    "localtimodel = ff.LocalTIModelNoLocalTI()\n",
    "model_set = ff.WindFarmModelSet(wakedeficitmodel, wakedeflectionmodel, wakecombinationmodel, localtimodel)\n",
    "\n",
    "AEPM = ff.calculate_aep(turbine_x, turbine_y, turbine_z, rotor_diameter,\n",
    "                hub_height, turbine_yaw, ct_models, generator_efficiency, cut_in_speed,\n",
    "                cut_out_speed, rated_speed, rated_power, windresource, power_models, model_set,\n",
    "                rotor_sample_points_y=rotor_points_y,rotor_sample_points_z=rotor_points_z)"
   ]
  },
  {
   "cell_type": "markdown",
   "metadata": {},
   "source": [
    "### Compare TIP vs TopHat"
   ]
  },
  {
   "cell_type": "code",
   "execution_count": 15,
   "metadata": {
    "scrolled": true
   },
   "outputs": [
    {
     "name": "stdout",
     "output_type": "stream",
     "text": [
      "TIP AEP: 5.4247163582650345e10\n",
      "Jensen Top Hat AEP:   6.814580788138366e10\n",
      "Jensen Cosine AEP:   3.485464745806654e10\n",
      "Multi-Zone AEP:   7.140181038618155e10\n",
      "Bastankhah AEP:   5.211596064185484e10\n",
      "Error vs Jensen Top Hat:  -20.40%\n",
      "Error vs Jensen Cosine:   55.64%\n",
      "Error vs Multi-Zone:  -24.03%\n",
      "Error vs Bastankhah:   4.09%\n"
     ]
    }
   ],
   "source": [
    "ErrorTIPvsTopHat = 100*(AEPTIP-AEPJTH)/AEPJTH\n",
    "ErrorTIPvsCosine = 100*(AEPTIP-AEPJC)/AEPJC\n",
    "ErrorTIPvsMultizone = 100*(AEPTIP-AEPM)/AEPM\n",
    "ErrorTIPvsBastankhah = 100*(AEPTIP-AEPB)/AEPB\n",
    "println(\"TIP AEP: \", AEPTIP)\n",
    "println(\"Jensen Top Hat AEP:   \", AEPJTH)\n",
    "println(\"Jensen Cosine AEP:   \", AEPJC)\n",
    "println(\"Multi-Zone AEP:   \", AEPM)\n",
    "println(\"Bastankhah AEP:   \", AEPB)\n",
    "@printf(\"Error vs Jensen Top Hat:  %.2f%%\\n\", ErrorTIPvsTopHat)\n",
    "@printf(\"Error vs Jensen Cosine:   %.2f%%\\n\", ErrorTIPvsCosine)\n",
    "@printf(\"Error vs Multi-Zone:  %.2f%%\\n\", ErrorTIPvsMultizone)\n",
    "@printf(\"Error vs Bastankhah:   %.2f%%\\n\", ErrorTIPvsBastankhah)"
   ]
  },
  {
   "cell_type": "code",
   "execution_count": null,
   "metadata": {},
   "outputs": [],
   "source": []
  }
 ],
 "metadata": {
  "kernelspec": {
   "display_name": "Julia 1.4.1",
   "language": "julia",
   "name": "julia-1.4"
  },
  "language_info": {
   "file_extension": ".jl",
   "mimetype": "application/julia",
   "name": "julia",
   "version": "1.4.1"
  }
 },
 "nbformat": 4,
 "nbformat_minor": 4
}
