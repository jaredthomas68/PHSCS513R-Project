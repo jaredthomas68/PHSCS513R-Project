{
 "cells": [
  {
   "cell_type": "markdown",
   "metadata": {},
   "source": [
    "# Derivation"
   ]
  },
  {
   "cell_type": "markdown",
   "metadata": {},
   "source": [
    "\\begin{equation}\n",
    "    \n",
    "\\end{equation}"
   ]
  },
  {
   "cell_type": "markdown",
   "metadata": {},
   "source": [
    "# Code"
   ]
  },
  {
   "cell_type": "code",
   "execution_count": 22,
   "metadata": {},
   "outputs": [
    {
     "data": {
      "text/plain": [
       "get_aep (generic function with 1 method)"
      ]
     },
     "execution_count": 22,
     "metadata": {},
     "output_type": "execute_result"
    }
   ],
   "source": [
    "# first create the necessary functions\n",
    "\n",
    "# get angle for two given turbines\n",
    "function get_angle(dx, dy)\n",
    "    angle = atan(dy,dx)\n",
    "end\n",
    "\n",
    "# get probability for a given angle\n",
    "function get_probability(angle, wind_rose)\n",
    "    p = 1.0\n",
    "end\n",
    "\n",
    "# get effective velocity for a given turbine\n",
    "function get_effvelocity(turbid, x, y, wind_rose, uave; r0=0.5, alpha=0.1, a=1.0/3.0)\n",
    "    nturbines = length(x)\n",
    "    deficit = 0.0\n",
    "    for j = 1:nturbines\n",
    "        dx = x[j] - x[turbid]\n",
    "        dy = y[j] - y[turbid]\n",
    "        dr = sqrt(dx^2+dy^2)\n",
    "        angle = get_angle(dx, dy)\n",
    "        p = get_probability(angle, wind_rose)\n",
    "        deficit += (r0/(r0+alpha*dr))^4\n",
    "    end\n",
    "    deficit = sqrt((4.0*a^2)*deficit)\n",
    "    \n",
    "    ueff = uave - deficit\n",
    "    println(\"ueff \", ueff)\n",
    "    return ueff\n",
    "end\n",
    "\n",
    "# get effective cp for a turbine in a given direction\n",
    "function get_cp(u, cp_dist)\n",
    "    cp = 0.6\n",
    "end\n",
    "\n",
    "# get average wind speed\n",
    "function get_ave_wind_speed(wind_rose)\n",
    "    wind_speeds = wind_rose[:,2]\n",
    "    probabilities = wind_rose[:,3]\n",
    "    ave_speed = sum(wind_speeds.*probabilities)\n",
    "    return ave_speed\n",
    "end\n",
    "\n",
    "# get average power for a given turbine\n",
    "function get_effpower(turbid, x, y, wind_rose, uave, cp_dist;prated=2E6, u_cut_in=3.0, u_cut_out=15.0, density=1.225, r0=0.5, alpha=0.1, a=1.0/3.0)\n",
    "    area = pi*r0^2\n",
    "    ueff = get_effvelocity(turbid, x, y, wind_rose, uave)\n",
    "    peff = 0.0\n",
    "    \n",
    "    if ueff < u_cut_in\n",
    "        return peff\n",
    "    elseif ueff > u_cut_out\n",
    "        return peff\n",
    "    else \n",
    "        cp = get_cp(ueff, cp_dist)\n",
    "        peff = 0.5*density*area*cp*ueff^3\n",
    "    end\n",
    "        \n",
    "    if peff > prated\n",
    "        peff = prated\n",
    "    end\n",
    "    println(\"peff \", peff)\n",
    "    return peff\n",
    "end\n",
    "\n",
    "# get annual energy production\n",
    "function get_aep(x, y, wind_rose, cp_dist; density=1.225, r0=0.5, alpha=0.1, a=1.0/3.0)\n",
    "    nturbines = length(x)\n",
    "    uave = get_ave_wind_speed(wind_rose)\n",
    "    power = zeros(nturbines)\n",
    "    for i = 1:nturbines\n",
    "        power[i] = get_effpower(i, x, y, wind_rose, uave, cp_dist)\n",
    "    end\n",
    "    aep = (365.0)*(24.0)*sum(power)\n",
    "    return aep\n",
    "end"
   ]
  },
  {
   "cell_type": "code",
   "execution_count": 25,
   "metadata": {},
   "outputs": [
    {
     "name": "stdout",
     "output_type": "stream",
     "text": [
      "[0.0 10.0 0.5; 3.141592653589793 10.0 0.5]ueff 9.274977790830214\n",
      "peff 230.29571634159396\n",
      "ueff 9.255285958072967\n",
      "peff 228.83199639203715\n",
      "ueff 9.292767306303833\n",
      "peff 231.62338918251388\n"
     ]
    },
    {
     "data": {
      "text/plain": [
       "6.05097965278543e6"
      ]
     },
     "execution_count": 25,
     "metadata": {},
     "output_type": "execute_result"
    }
   ],
   "source": [
    "x = [0.0, 3.0, 7.0]\n",
    "y = [0.0, 0.0, 0.0]\n",
    "\n",
    "wind_rose = [0.0 10.0 0.5; pi 10.0 0.5]\n",
    "print(wind_rose)\n",
    "cp_dist = [10.0, 0.6]\n",
    "aep = get_aep(x,y,wind_rose,cp_dist)"
   ]
  },
  {
   "cell_type": "code",
   "execution_count": 26,
   "metadata": {},
   "outputs": [
    {
     "data": {
      "text/plain": [
       "1.752e10"
      ]
     },
     "execution_count": 26,
     "metadata": {},
     "output_type": "execute_result"
    }
   ],
   "source": [
    "365*24*2E6\n"
   ]
  },
  {
   "cell_type": "code",
   "execution_count": null,
   "metadata": {},
   "outputs": [],
   "source": []
  }
 ],
 "metadata": {
  "kernelspec": {
   "display_name": "Julia 1.4.1",
   "language": "julia",
   "name": "julia-1.4"
  },
  "language_info": {
   "file_extension": ".jl",
   "mimetype": "application/julia",
   "name": "julia",
   "version": "1.4.1"
  }
 },
 "nbformat": 4,
 "nbformat_minor": 4
}
