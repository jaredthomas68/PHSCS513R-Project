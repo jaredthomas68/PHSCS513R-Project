{
 "cells": [
  {
   "cell_type": "markdown",
   "metadata": {},
   "source": [
    "# Derivation"
   ]
  },
  {
   "cell_type": "markdown",
   "metadata": {},
   "source": [
    "Wind farms are typically modeled using a ground up approach, beginning with individual wind turbine wakes in a single direction and speed. For each wind direction and wind speed combination, the wind turbine wakes are combined to approximate the velocity at each wind turbine, from which the power production in each direction/speed combination can be determined. The power production values in each direction/speed combination are then combined with probability distributions in the direction and speed dimensions to arrive at a final approximation for the wind farm annual energy production (AEP). This approach means that we have to compute turbine to turbine interactions for each pair of wind turbines for each direction/speed combination. For gradient-based optimization, we also have to compute the derivatives of each turbine to turbine interaction. However, due to the stochastic nature of the wind conditions at a wind farm, a coarser approach estimates average turbine pair interactions rather than calculating turbine pair interactions in every direction may work just as well for predicting AEP while giving us an added benefit of reducing the the computational cost to $O(n^2)$. In hard numbers, a wind farm with 81 turbines and a wind rose with 360 directions with only one wind speed per direction requires all turbine pair interactions to be checked for every wind direction, resulting in about 2,361,960 turbine interaction calculations to estimate the AEP a single time. In contrast, our new turbine pair interaction approach should require only 6,561 turbine interaction calculations. Our current model, implemented in julia, can predict AEP within $3\\%$ compared with a typical engineering model in julia at a speedup of about $10\\times$ on average for a wind farm with 60 turbines and 72 wind directions. This is a rough draft of the approach, and improved speedup and accuracy are expected.\n",
    "\n",
    "The turbine pair interaction model is derived from the basic wake model and wind farm equations where the downstream distance is converted to a radial function by replacing the downstream distance $x$ with a radial turbine separation distance $r=\\sqrt{x^2+y^2}$ and the interaction probability is determined by the direction between the current pair of turbines. The derivation of the model is as follows:\n",
    "\n",
    "Wind farm AEP is modeled as shown in \\cref{eq:aep},\n",
    "\\begin{equation}\\label{eq:aep}\n",
    "\tAEP = \\bigg(\\frac{hours}{day}\\bigg)\\bigg(\\frac{days}{year}\\bigg) \\sum_{k=1}^{N_D}f_k\\sum_{i=1}^{N_T}P_{ik}(\\hat{u}_{ik})\n",
    "\\end{equation}\n",
    "where the power $P$ is defined as \\cref{eq:power}\n",
    "\\begin{equation}\\label{eq:power}\n",
    "\tP_{i_k} = \n",
    "\t\t\\begin{cases} \n",
    "\t\t0 & \\hat{u}_i < u_{cutin} \\\\\n",
    "\t\t0.5\\rho A_i C_{P_i}\\hat{u}_i^3 & \\hat{u}_i \\geq  u_{cutin} \\ \\text{and} \\ P_{i} < P_{rated} \\\\\n",
    "\t\tP_{rated} & P_{i} \\geq P_{rated}\n",
    "\t\\end{cases}\n",
    "\\end{equation}\n",
    "%\n",
    "With the velocity $\\bar{u_i}$ coming from a simple wake model and wake combination model. For our new model, we take the probability inside the velocity function and our AEP model becomes \\cref{eq:aeprbf}.\n",
    "\\begin{equation}\\label{eq:aeprbf}\n",
    "\tAEP = \\bigg(\\frac{hours}{day}\\bigg)\\bigg(\\frac{days}{year}\\bigg) \\sum_{i=1}^{N_T}P_{i}(\\hat{u}_{i})\n",
    "\\end{equation}\n",
    "%\n",
    "Our power model does not change, but our directional probability based velocity model is \\cref{eq:urbf}.\n",
    "%\n",
    "\\begin{equation}\\label{eq:urbf}\n",
    "\t\\hat{u}_{i} = \\bar{u} - \\sqrt{\\sum_{j=1}^{N_T}\\Big(\\bar{u}_j f_{ij}2a\\Big(\\frac{d_{o,j}}{d_{o,j}+2\\alpha r}\\Big)^2\\Big)^2}\n",
    "\\end{equation}\n",
    "With the probability $f_{i,j}$ and the directional velocity $\\bar{u}_j$ estimated from the direction between the wind turbines and $r$ being the direct distance between the turbine pair, turbines $i$ and $j$. The average velocity for the wind site is given by $\\bar{u}$.\n"
   ]
  },
  {
   "cell_type": "markdown",
   "metadata": {},
   "source": [
    "# Code"
   ]
  },
  {
   "cell_type": "code",
   "execution_count": 2,
   "metadata": {},
   "outputs": [
    {
     "name": "stderr",
     "output_type": "stream",
     "text": [
      "┌ Info: Precompiling FlowFarm [eb2d4cfc-2064-11ea-0a1c-63d372e6a848]\n",
      "└ @ Base loading.jl:1260\n",
      "┌ Warning: Package FlowFarm does not have CCBlade in its dependencies:\n",
      "│ - If you have FlowFarm checked out for development and have\n",
      "│   added CCBlade as a dependency but haven't updated your primary\n",
      "│   environment's manifest file, try `Pkg.resolve()`.\n",
      "│ - Otherwise you may need to report an issue with FlowFarm\n",
      "└ Loading CCBlade into FlowFarm from project dependency, future warnings for FlowFarm are suppressed.\n"
     ]
    },
    {
     "data": {
      "text/plain": [
       "cart2met"
      ]
     },
     "execution_count": 2,
     "metadata": {},
     "output_type": "execute_result"
    }
   ],
   "source": [
    "\n",
    "using DelimitedFiles \n",
    "using PyPlot\n",
    "using FLOWMath: Akima\n",
    "using QuadGK\n",
    "using ProfileView\n",
    "using BenchmarkTools\n",
    "import FlowFarm; const ff = FlowFarm\n",
    "\n",
    "\"\"\"\n",
    "Convert angle from cartesian coordinate system to meterological coordinate system\n",
    "\"\"\"\n",
    "function cart2met(wind_direction_cart)\n",
    "\n",
    "    # convert from cart. polar system (CCW, 0 rad.=E) to meteorological polar system (CW, 0 rad.=N) \n",
    "    wind_direction_met = 3.0*pi/2.0 - wind_direction_cart\n",
    "\n",
    "    # adjust to be between 0 and 2pi\n",
    "    if wind_direction_met < 0.0\n",
    "        wind_direction_met += 2.0*pi\n",
    "    end\n",
    "    \n",
    "    return wind_direction_met\n",
    "end"
   ]
  },
  {
   "cell_type": "code",
   "execution_count": 133,
   "metadata": {},
   "outputs": [
    {
     "data": {
      "text/plain": [
       "get_aep (generic function with 1 method)"
      ]
     },
     "execution_count": 133,
     "metadata": {},
     "output_type": "execute_result"
    }
   ],
   "source": [
    "# first create the necessary functions\n",
    "function wake_combination_model(deficit, wind_speed, old_deficit_sum)\n",
    "    # Katic et al. 1986\n",
    "\n",
    "    new_deficit_sum = sqrt(old_deficit_sum^2 + (wind_speed*deficit)^2)\n",
    "    # println(\"new_deficit_sum: \", new_deficit_sum)\n",
    "    if new_deficit_sum > wind_speed\n",
    "        new_deficit_sum = wind_speed\n",
    "    end\n",
    "\n",
    "    return new_deficit_sum\n",
    "\n",
    "end\n",
    "\n",
    "# get angle for two given turbines\n",
    "function get_angle(dx, dy)\n",
    "    angle = atan(dy,dx)\n",
    "end\n",
    "\n",
    "# get probability for a given angle\n",
    "function get_probability_spline(wind_rose)\n",
    "    p_spline = Akima(wind_rose[:,1], wind_rose[:,3])\n",
    "    return p_spline\n",
    "end\n",
    "\n",
    "# get speed for a given angle\n",
    "function get_speed_spline(wind_rose)\n",
    "    speed_spline = Akima(wind_rose[:,1], wind_rose[:,2])\n",
    "    return speed_spline\n",
    "end\n",
    "\n",
    "# get effective velocity for a given turbine\n",
    "function get_effvelocity(turbid, x, y, wind_rose, uave, probability_spline, speed_spline; r0=0.5, alpha=0.1, a=1.0/3.0)\n",
    "    nturbines = length(x)\n",
    "    deficit_sum = 0.0\n",
    "    for j = 1:nturbines\n",
    "        dx = x[j] - x[turbid]\n",
    "        dy = y[j] - y[turbid]\n",
    "        dr = sqrt(dx^2+dy^2)\n",
    "        angle = 180.0*cart2met(get_angle(dx, dy))/pi\n",
    "#         p = get_probability(angle, wind_rose)\n",
    "#         get_probability(dummy) = get_probability(dummy, wind_rose)\n",
    "#         println(angle)\n",
    "#         angles = angle-dr\n",
    "        z = r0/alpha\n",
    "        beta = 180.0*atan(alpha)/pi\n",
    "        p=0.0\n",
    "        wind_speed = 0.0\n",
    "        counter = 0\n",
    "        for ang in (angle-beta*0.25):1:(angle+beta*0.25)\n",
    "#         for ang in (angle):(angle)\n",
    "            p += probability_spline(ang)\n",
    "            wind_speed += speed_spline(ang)\n",
    "            counter += 1\n",
    "        end\n",
    "        wind_speed /= counter\n",
    "#         p, perr = quadgk(get_probability, angle-alpha, angle+alpha)\n",
    "        deficit = p*2.0*a*(r0/(r0+alpha*dr))^2\n",
    "        \n",
    "        deficit_sum = wake_combination_model(deficit, wind_speed, deficit_sum)\n",
    "    end\n",
    "#     deficit = sqrt((4.0*a^2)*deficit)\n",
    "    \n",
    "    ueff = uave - deficit_sum\n",
    "    return ueff\n",
    "end\n",
    "\n",
    "# get effective cp for a turbine in a given direction\n",
    "function get_cp_spline(cpct)\n",
    "    cp_spline = Akima(cpct[:,1], cpct[:,2])\n",
    "    return cp_spline\n",
    "end\n",
    "\n",
    "# get average wind speed\n",
    "function get_ave_wind_speed(wind_rose)\n",
    "    wind_speeds = wind_rose[:,2]\n",
    "    probabilities = wind_rose[:,3]\n",
    "    ave_speed = sum(wind_speeds.*probabilities)\n",
    "    return ave_speed\n",
    "end\n",
    "\n",
    "# get average power for a given turbine\n",
    "function get_effpower(turbid, x, y, wind_rose, uave, probability_spline, speed_spline, cp_spline;prated=5E6, u_cut_in=3.0, u_cut_out=25.0, density=1.225, r0=0.5, alpha=0.1, a=1.0/3.0)\n",
    "    area = pi*r0^2\n",
    "    ueff = get_effvelocity(turbid, x, y, wind_rose, uave, probability_spline, speed_spline, r0=r0)\n",
    "    peff = 0.0\n",
    "    \n",
    "    if ueff < u_cut_in\n",
    "        return peff\n",
    "    elseif ueff > u_cut_out\n",
    "        return peff\n",
    "    else \n",
    "        cp = cp_spline(ueff)\n",
    "        peff = 0.5*density*area*cp*ueff^3\n",
    "    end\n",
    "        \n",
    "    if peff > prated\n",
    "        peff = prated\n",
    "    end\n",
    "    return peff\n",
    "end\n",
    "\n",
    "# get annual energy production\n",
    "function get_aep(x, y, wind_rose, cpct; density=1.176, r0=0.5, alpha=0.1, a=1.0/3.0)\n",
    "    nturbines = length(x)\n",
    "    uave = get_ave_wind_speed(wind_rose)\n",
    "    power = zeros(nturbines)\n",
    "    probability_spline = get_probability_spline(wind_rose)\n",
    "    speed_spline = get_speed_spline(wind_rose)\n",
    "    cp_spline = get_cp_spline(cpct)\n",
    "    for i = 1:nturbines\n",
    "        power[i] = get_effpower(i, x, y, wind_rose, uave, probability_spline, speed_spline, cp_spline, r0=r0)\n",
    "    end\n",
    "    aep = (365.0)*(24.0)*sum(power)\n",
    "    return aep\n",
    "end"
   ]
  },
  {
   "cell_type": "code",
   "execution_count": 140,
   "metadata": {},
   "outputs": [
    {
     "data": {
      "text/plain": [
       "BenchmarkTools.Trial: \n",
       "  memory estimate:  27.63 KiB\n",
       "  allocs estimate:  38\n",
       "  --------------\n",
       "  minimum time:     2.176 ms (0.00% GC)\n",
       "  median time:      3.711 ms (0.00% GC)\n",
       "  mean time:        3.739 ms (0.00% GC)\n",
       "  maximum time:     23.694 ms (0.00% GC)\n",
       "  --------------\n",
       "  samples:          1332\n",
       "  evals/sample:     1"
      ]
     },
     "execution_count": 140,
     "metadata": {},
     "output_type": "execute_result"
    }
   ],
   "source": [
    "# define turbine rotor diameter\n",
    "diam = 126.4\n",
    "\n",
    "# read in location data and store (x, y)\n",
    "layout_data = readdlm(\"inputfiles/layout_amalia.txt\",  ' ', skipstart=1)\n",
    "turbine_x = layout_data[:,1]*diam\n",
    "turbine_y = layout_data[:,2]*diam\n",
    "nturbines = length(turbine_x)\n",
    "\n",
    "# read in windrose data and store (direction, speed, probabiliity)\n",
    "wind_rose = readdlm(\"inputfiles/windrose_amalia_72dirs.txt\",  ' ', skipstart=1)\n",
    "# wind_rose = readdlm(\"inputfiles/windrose_amalia_36dirs.txt\",  ' ', skipstart=1)\n",
    "\n",
    "# read in turbine data and store (speed, cp, ct)\n",
    "cpct = readdlm(\"inputfiles/NREL5MWCPCT.txt\",  ' ', skipstart=1)\n",
    "\n",
    "AEPRBF = get_aep(turbine_x,turbine_y,wind_rose,cpct,r0=diam/2.0)\n",
    "@benchmark get_aep(turbine_x,turbine_y,wind_rose,cpct,r0=diam/2.0)\n",
    "# @profview get_aep(turbine_x,turbine_y,wind_rose,cpct,r0=diam/2.0)"
   ]
  },
  {
   "cell_type": "code",
   "execution_count": 141,
   "metadata": {},
   "outputs": [
    {
     "data": {
      "text/plain": [
       "BenchmarkTools.Trial: \n",
       "  memory estimate:  492.73 KiB\n",
       "  allocs estimate:  1196\n",
       "  --------------\n",
       "  minimum time:     17.757 ms (0.00% GC)\n",
       "  median time:      29.526 ms (0.00% GC)\n",
       "  mean time:        30.020 ms (0.05% GC)\n",
       "  maximum time:     44.458 ms (0.00% GC)\n",
       "  --------------\n",
       "  samples:          167\n",
       "  evals/sample:     1"
      ]
     },
     "execution_count": 141,
     "metadata": {},
     "output_type": "execute_result"
    }
   ],
   "source": [
    "# check against FLOWFarm\n",
    "\n",
    "# import model set with wind farm and related details\n",
    "include(\"./inputfiles/model_set_10_amalia_wind_park.jl\")\n",
    "\n",
    "AEPFF = ff.calculate_aep(turbine_x, turbine_y, turbine_z, rotor_diameter,\n",
    "                hub_height, turbine_yaw, ct_models, generator_efficiency, cut_in_speed,\n",
    "                cut_out_speed, rated_speed, rated_power, windresource, power_models, model_set,\n",
    "                rotor_sample_points_y=rotor_points_y,rotor_sample_points_z=rotor_points_z)\n",
    "@benchmark ff.calculate_aep(turbine_x, turbine_y, turbine_z, rotor_diameter,\n",
    "                hub_height, turbine_yaw, ct_models, generator_efficiency, cut_in_speed,\n",
    "                cut_out_speed, rated_speed, rated_power, windresource, power_models, model_set,\n",
    "                rotor_sample_points_y=rotor_points_y,rotor_sample_points_z=rotor_points_z)"
   ]
  },
  {
   "cell_type": "code",
   "execution_count": 142,
   "metadata": {},
   "outputs": [
    {
     "name": "stdout",
     "output_type": "stream",
     "text": [
      "FLOWFarm AEP: 9.824439314187755e11\n",
      "Radial Basis AEP: 9.561444135043909e11\n",
      "Error: -2.6769484825871697%\n"
     ]
    }
   ],
   "source": [
    "println(\"FLOWFarm AEP: \", AEPFF)\n",
    "println(\"Radial Basis AEP: \", AEPRBF)\n",
    "println(\"Error: \", 100*(AEPRBF-AEPFF)/AEPFF, \"%\")"
   ]
  },
  {
   "cell_type": "code",
   "execution_count": 12,
   "metadata": {},
   "outputs": [
    {
     "data": {
      "image/png": "[encoded data removed]",
      "text/plain": [
       "Figure(PyObject <Figure size 640x480 with 1 Axes>)"
      ]
     },
     "metadata": {},
     "output_type": "display_data"
    }
   ],
   "source": [
    "# add turbine locations to plot\n",
    "for i = 1:length(turbine_x)\n",
    "    plt.gcf().gca().add_artist(plt.Circle((turbine_x[i],turbine_y[i]), rotor_diameter[1]/2.0, fill=false,color=\"C0\"))\n",
    "end\n",
    "\n",
    "# set up and show plot\n",
    "axis(\"square\")\n",
    "plt.xlim([minimum(turbine_x)-500, maximum(turbine_x)+500])\n",
    "plt.ylim([minimum(turbine_y)-500, maximum(turbine_y)+500])\n",
    "plt.title(\"Wind Turbine Locations\")\n",
    "plt.xlabel(\"Easting (m)\")\n",
    "plt.ylabel(\"Northing (m)\")\n",
    "plt.show()"
   ]
  },
  {
   "cell_type": "code",
   "execution_count": null,
   "metadata": {},
   "outputs": [],
   "source": []
  },
  {
   "cell_type": "code",
   "execution_count": null,
   "metadata": {},
   "outputs": [],
   "source": []
  }
 ],
 "metadata": {
  "kernelspec": {
   "display_name": "Julia 1.4.1",
   "language": "julia",
   "name": "julia-1.4"
  },
  "language_info": {
   "file_extension": ".jl",
   "mimetype": "application/julia",
   "name": "julia",
   "version": "1.4.1"
  }
 },
 "nbformat": 4,
 "nbformat_minor": 4
}
