{
 "cells": [
  {
   "cell_type": "code",
   "execution_count": 17,
   "metadata": {},
   "outputs": [],
   "source": [
    "using DelimitedFiles \n",
    "using Distributed\n",
    "using PyPlot\n",
    "using Printf\n",
    "import FlowFarm; const ff = FlowFarm\n",
    "using BenchmarkTools"
   ]
  },
  {
   "cell_type": "markdown",
   "metadata": {},
   "source": [
    "# Borssele"
   ]
  },
  {
   "cell_type": "markdown",
   "metadata": {},
   "source": [
    "## 100 directions"
   ]
  },
  {
   "cell_type": "markdown",
   "metadata": {},
   "source": [
    "### Set Up"
   ]
  },
  {
   "cell_type": "code",
   "execution_count": 18,
   "metadata": {},
   "outputs": [],
   "source": [
    "# include case information\n",
    "include(\"./inputfiles/model_set_7_ieacs4_100dir.jl\");"
   ]
  },
  {
   "cell_type": "markdown",
   "metadata": {},
   "source": [
    "### Run TIP Model"
   ]
  },
  {
   "cell_type": "code",
   "execution_count": 19,
   "metadata": {},
   "outputs": [
    {
     "data": {
      "text/plain": [
       "5.106823174119585e12"
      ]
     },
     "execution_count": 19,
     "metadata": {},
     "output_type": "execute_result"
    }
   ],
   "source": [
    "AEPTIP = ff.tip_get_aep(turbine_x,turbine_y,wind_data,cpdata,ctdata, pstep=0.01, prated=rated_power[1], u_cut_in=cut_in_speed[1], u_cut_out=cut_out_speed[1], density=air_density, r0=diam/2.0, alpha=0.01)"
   ]
  },
  {
   "cell_type": "code",
   "execution_count": 42,
   "metadata": {},
   "outputs": [
    {
     "data": {
      "text/plain": [
       "BenchmarkTools.Trial: \n",
       "  memory estimate:  21.28 MiB\n",
       "  allocs estimate:  32857\n",
       "  --------------\n",
       "  minimum time:     9.832 ms (0.00% GC)\n",
       "  median time:      17.479 ms (0.00% GC)\n",
       "  mean time:        17.609 ms (28.67% GC)\n",
       "  maximum time:     55.324 ms (30.97% GC)\n",
       "  --------------\n",
       "  samples:          284\n",
       "  evals/sample:     1"
      ]
     },
     "execution_count": 42,
     "metadata": {},
     "output_type": "execute_result"
    }
   ],
   "source": [
    "@benchmark ff.tip_get_aep(turbine_x,turbine_y,wind_data,cpdata,ctdata, pstep=0.01, prated=rated_power[1], u_cut_in=cut_in_speed[1], u_cut_out=cut_out_speed[1], density=air_density, r0=diam/2.0, alpha=0.01)"
   ]
  },
  {
   "cell_type": "markdown",
   "metadata": {},
   "source": [
    "### Run FLOWFarm - Jensen TopHat Model"
   ]
  },
  {
   "cell_type": "code",
   "execution_count": 21,
   "metadata": {},
   "outputs": [
    {
     "data": {
      "text/plain": [
       "4.642059231495327e12"
      ]
     },
     "execution_count": 21,
     "metadata": {},
     "output_type": "execute_result"
    }
   ],
   "source": [
    "wakedeficitmodel = ff.JensenTopHat()\n",
    "wakedeflectionmodel = ff.JiminezYawDeflection()\n",
    "wakecombinationmodel = ff.SumOfSquaresLocalVelocitySuperposition()\n",
    "localtimodel = ff.LocalTIModelNoLocalTI()\n",
    "model_set = ff.WindFarmModelSet(wakedeficitmodel, wakedeflectionmodel, wakecombinationmodel, localtimodel)\n",
    "\n",
    "AEPJTH = ff.calculate_aep(turbine_x, turbine_y, turbine_z, rotor_diameter,\n",
    "                hub_height, turbine_yaw, ct_models, generator_efficiency, cut_in_speed,\n",
    "                cut_out_speed, rated_speed, rated_power, windresource, power_models, model_set,\n",
    "                rotor_sample_points_y=rotor_points_y,rotor_sample_points_z=rotor_points_z)"
   ]
  },
  {
   "cell_type": "code",
   "execution_count": 22,
   "metadata": {},
   "outputs": [
    {
     "data": {
      "text/plain": [
       "BenchmarkTools.Trial: \n",
       "  memory estimate:  870.86 KiB\n",
       "  allocs estimate:  1636\n",
       "  --------------\n",
       "  minimum time:     39.348 ms (0.00% GC)\n",
       "  median time:      41.584 ms (0.00% GC)\n",
       "  mean time:        49.595 ms (0.03% GC)\n",
       "  maximum time:     141.640 ms (0.00% GC)\n",
       "  --------------\n",
       "  samples:          101\n",
       "  evals/sample:     1"
      ]
     },
     "execution_count": 22,
     "metadata": {},
     "output_type": "execute_result"
    }
   ],
   "source": [
    "@benchmark ff.calculate_aep(turbine_x, turbine_y, turbine_z, rotor_diameter,\n",
    "                hub_height, turbine_yaw, ct_models, generator_efficiency, cut_in_speed,\n",
    "                cut_out_speed, rated_speed, rated_power, windresource, power_models, model_set,\n",
    "                rotor_sample_points_y=rotor_points_y,rotor_sample_points_z=rotor_points_z)"
   ]
  },
  {
   "cell_type": "markdown",
   "metadata": {},
   "source": [
    "### Run FLOWFarm - Jensen Cosine Model"
   ]
  },
  {
   "cell_type": "code",
   "execution_count": 23,
   "metadata": {},
   "outputs": [
    {
     "data": {
      "text/plain": [
       "2.1860536322009937e12"
      ]
     },
     "execution_count": 23,
     "metadata": {},
     "output_type": "execute_result"
    }
   ],
   "source": [
    "wakedeficitmodel = ff.JensenCosine()\n",
    "wakedeflectionmodel = ff.JiminezYawDeflection()\n",
    "wakecombinationmodel = ff.SumOfSquaresLocalVelocitySuperposition()\n",
    "localtimodel = ff.LocalTIModelNoLocalTI()\n",
    "model_set = ff.WindFarmModelSet(wakedeficitmodel, wakedeflectionmodel, wakecombinationmodel, localtimodel)\n",
    "\n",
    "AEPJC = ff.calculate_aep(turbine_x, turbine_y, turbine_z, rotor_diameter,\n",
    "                hub_height, turbine_yaw, ct_models, generator_efficiency, cut_in_speed,\n",
    "                cut_out_speed, rated_speed, rated_power, windresource, power_models, model_set,\n",
    "                rotor_sample_points_y=rotor_points_y,rotor_sample_points_z=rotor_points_z)"
   ]
  },
  {
   "cell_type": "code",
   "execution_count": 24,
   "metadata": {},
   "outputs": [
    {
     "data": {
      "text/plain": [
       "BenchmarkTools.Trial: \n",
       "  memory estimate:  870.81 KiB\n",
       "  allocs estimate:  1635\n",
       "  --------------\n",
       "  minimum time:     55.714 ms (0.00% GC)\n",
       "  median time:      74.491 ms (0.00% GC)\n",
       "  mean time:        90.163 ms (0.03% GC)\n",
       "  maximum time:     209.428 ms (0.00% GC)\n",
       "  --------------\n",
       "  samples:          56\n",
       "  evals/sample:     1"
      ]
     },
     "execution_count": 24,
     "metadata": {},
     "output_type": "execute_result"
    }
   ],
   "source": [
    "@benchmark ff.calculate_aep(turbine_x, turbine_y, turbine_z, rotor_diameter,\n",
    "                hub_height, turbine_yaw, ct_models, generator_efficiency, cut_in_speed,\n",
    "                cut_out_speed, rated_speed, rated_power, windresource, power_models, model_set,\n",
    "                rotor_sample_points_y=rotor_points_y,rotor_sample_points_z=rotor_points_z)"
   ]
  },
  {
   "cell_type": "markdown",
   "metadata": {},
   "source": [
    "### Run FLOWFarm - Bastankhah Model"
   ]
  },
  {
   "cell_type": "code",
   "execution_count": 25,
   "metadata": {},
   "outputs": [
    {
     "data": {
      "text/plain": [
       "3.3265513526879033e12"
      ]
     },
     "execution_count": 25,
     "metadata": {},
     "output_type": "execute_result"
    }
   ],
   "source": [
    "wakedeficitmodel = ff.GaussYaw()\n",
    "wakedeflectionmodel = ff.GaussYawDeflection()\n",
    "wakecombinationmodel = ff.LinearLocalVelocitySuperposition()\n",
    "localtimodel = ff.LocalTIModelMaxTI()\n",
    "model_set = ff.WindFarmModelSet(wakedeficitmodel, wakedeflectionmodel, wakecombinationmodel, localtimodel)\n",
    "\n",
    "AEPB = ff.calculate_aep(turbine_x, turbine_y, turbine_z, rotor_diameter,\n",
    "                hub_height, turbine_yaw, ct_models, generator_efficiency, cut_in_speed,\n",
    "                cut_out_speed, rated_speed, rated_power, windresource, power_models, model_set,\n",
    "                rotor_sample_points_y=rotor_points_y,rotor_sample_points_z=rotor_points_z)"
   ]
  },
  {
   "cell_type": "code",
   "execution_count": 26,
   "metadata": {},
   "outputs": [
    {
     "data": {
      "text/plain": [
       "BenchmarkTools.Trial: \n",
       "  memory estimate:  870.81 KiB\n",
       "  allocs estimate:  1635\n",
       "  --------------\n",
       "  minimum time:     98.610 ms (0.00% GC)\n",
       "  median time:      99.369 ms (0.00% GC)\n",
       "  mean time:        99.636 ms (0.00% GC)\n",
       "  maximum time:     102.604 ms (0.00% GC)\n",
       "  --------------\n",
       "  samples:          51\n",
       "  evals/sample:     1"
      ]
     },
     "execution_count": 26,
     "metadata": {},
     "output_type": "execute_result"
    }
   ],
   "source": [
    "@benchmark ff.calculate_aep(turbine_x, turbine_y, turbine_z, rotor_diameter,\n",
    "                hub_height, turbine_yaw, ct_models, generator_efficiency, cut_in_speed,\n",
    "                cut_out_speed, rated_speed, rated_power, windresource, power_models, model_set,\n",
    "                rotor_sample_points_y=rotor_points_y,rotor_sample_points_z=rotor_points_z)"
   ]
  },
  {
   "cell_type": "markdown",
   "metadata": {},
   "source": [
    "### Run FLOWFarm MultiZone Model"
   ]
  },
  {
   "cell_type": "code",
   "execution_count": 27,
   "metadata": {},
   "outputs": [
    {
     "data": {
      "text/plain": [
       "4.884614403697373e12"
      ]
     },
     "execution_count": 27,
     "metadata": {},
     "output_type": "execute_result"
    }
   ],
   "source": [
    "wakedeficitmodel = ff.Multizone()\n",
    "wakedeflectionmodel = ff.JiminezYawDeflection()\n",
    "wakecombinationmodel = ff.SumOfSquaresLocalVelocitySuperposition()\n",
    "localtimodel = ff.LocalTIModelNoLocalTI()\n",
    "model_set = ff.WindFarmModelSet(wakedeficitmodel, wakedeflectionmodel, wakecombinationmodel, localtimodel)\n",
    "\n",
    "AEPM = ff.calculate_aep(turbine_x, turbine_y, turbine_z, rotor_diameter,\n",
    "                hub_height, turbine_yaw, ct_models, generator_efficiency, cut_in_speed,\n",
    "                cut_out_speed, rated_speed, rated_power, windresource, power_models, model_set,\n",
    "                rotor_sample_points_y=rotor_points_y,rotor_sample_points_z=rotor_points_z)"
   ]
  },
  {
   "cell_type": "code",
   "execution_count": 28,
   "metadata": {},
   "outputs": [
    {
     "data": {
      "text/plain": [
       "BenchmarkTools.Trial: \n",
       "  memory estimate:  70.06 MiB\n",
       "  allocs estimate:  649631\n",
       "  --------------\n",
       "  minimum time:     72.158 ms (4.54% GC)\n",
       "  median time:      92.827 ms (7.09% GC)\n",
       "  mean time:        120.344 ms (6.42% GC)\n",
       "  maximum time:     554.197 ms (2.28% GC)\n",
       "  --------------\n",
       "  samples:          44\n",
       "  evals/sample:     1"
      ]
     },
     "execution_count": 28,
     "metadata": {},
     "output_type": "execute_result"
    }
   ],
   "source": [
    "@benchmark ff.calculate_aep(turbine_x, turbine_y, turbine_z, rotor_diameter,\n",
    "                hub_height, turbine_yaw, ct_models, generator_efficiency, cut_in_speed,\n",
    "                cut_out_speed, rated_speed, rated_power, windresource, power_models, model_set,\n",
    "                rotor_sample_points_y=rotor_points_y,rotor_sample_points_z=rotor_points_z)"
   ]
  },
  {
   "cell_type": "markdown",
   "metadata": {},
   "source": [
    "### Compare TIP vs TopHat"
   ]
  },
  {
   "cell_type": "code",
   "execution_count": 29,
   "metadata": {
    "scrolled": true
   },
   "outputs": [
    {
     "name": "stdout",
     "output_type": "stream",
     "text": [
      "TIP AEP: 5.106823174119585e12\n",
      "Jensen Top Hat AEP:   4.642059231495327e12\n",
      "Jensen Cosine AEP:   2.1860536322009937e12\n",
      "Multi-Zone AEP:   4.884614403697373e12\n",
      "Bastankhah AEP:   3.3265513526879033e12\n",
      "Error vs Jensen Top Hat:  10.01%\n",
      "Error vs Jensen Cosine:   133.61%\n",
      "Error vs Multi-Zone:  4.55%\n",
      "Error vs Bastankhah:   53.52%\n"
     ]
    }
   ],
   "source": [
    "ErrorTIPvsTopHat = 100*(AEPTIP-AEPJTH)/AEPJTH\n",
    "ErrorTIPvsCosine = 100*(AEPTIP-AEPJC)/AEPJC\n",
    "ErrorTIPvsMultizone = 100*(AEPTIP-AEPM)/AEPM\n",
    "ErrorTIPvsBastankhah = 100*(AEPTIP-AEPB)/AEPB\n",
    "println(\"TIP AEP: \", AEPTIP)\n",
    "println(\"Jensen Top Hat AEP:   \", AEPJTH)\n",
    "println(\"Jensen Cosine AEP:   \", AEPJC)\n",
    "println(\"Multi-Zone AEP:   \", AEPM)\n",
    "println(\"Bastankhah AEP:   \", AEPB)\n",
    "@printf(\"Error vs Jensen Top Hat:  %.2f%%\\n\", ErrorTIPvsTopHat)\n",
    "@printf(\"Error vs Jensen Cosine:   %.2f%%\\n\", ErrorTIPvsCosine)\n",
    "@printf(\"Error vs Multi-Zone:  %.2f%%\\n\", ErrorTIPvsMultizone)\n",
    "@printf(\"Error vs Bastankhah:   %.2f%%\\n\", ErrorTIPvsBastankhah)"
   ]
  },
  {
   "cell_type": "markdown",
   "metadata": {},
   "source": [
    "## 360 directions"
   ]
  },
  {
   "cell_type": "markdown",
   "metadata": {},
   "source": [
    "### Set Up"
   ]
  },
  {
   "cell_type": "code",
   "execution_count": 53,
   "metadata": {},
   "outputs": [
    {
     "data": {
      "text/plain": [
       "81"
      ]
     },
     "execution_count": 53,
     "metadata": {},
     "output_type": "execute_result"
    }
   ],
   "source": [
    "# include case information\n",
    "include(\"./inputfiles/model_set_7_ieacs4_360dir.jl\");\n",
    "nturbines"
   ]
  },
  {
   "cell_type": "markdown",
   "metadata": {},
   "source": [
    "### Run TIP Model"
   ]
  },
  {
   "cell_type": "code",
   "execution_count": 31,
   "metadata": {},
   "outputs": [
    {
     "data": {
      "text/plain": [
       "5.106393834190405e12"
      ]
     },
     "execution_count": 31,
     "metadata": {},
     "output_type": "execute_result"
    }
   ],
   "source": [
    "AEPTIP = ff.tip_get_aep(turbine_x,turbine_y,wind_data,cpdata,ctdata, pstep=0.01, prated=rated_power[1], u_cut_in=cut_in_speed[1], u_cut_out=cut_out_speed[1], density=air_density, r0=diam/2.0, alpha=0.01)"
   ]
  },
  {
   "cell_type": "code",
   "execution_count": 32,
   "metadata": {},
   "outputs": [
    {
     "data": {
      "text/plain": [
       "BenchmarkTools.Trial: \n",
       "  memory estimate:  21.28 MiB\n",
       "  allocs estimate:  32857\n",
       "  --------------\n",
       "  minimum time:     9.826 ms (0.00% GC)\n",
       "  median time:      13.371 ms (0.00% GC)\n",
       "  mean time:        15.685 ms (30.77% GC)\n",
       "  maximum time:     27.364 ms (44.65% GC)\n",
       "  --------------\n",
       "  samples:          319\n",
       "  evals/sample:     1"
      ]
     },
     "execution_count": 32,
     "metadata": {},
     "output_type": "execute_result"
    }
   ],
   "source": [
    "@benchmark ff.tip_get_aep(turbine_x,turbine_y,wind_data,cpdata,ctdata, pstep=0.01, prated=rated_power[1], u_cut_in=cut_in_speed[1], u_cut_out=cut_out_speed[1], density=air_density, r0=diam/2.0, alpha=0.01)"
   ]
  },
  {
   "cell_type": "markdown",
   "metadata": {},
   "source": [
    "### Run FLOWFarm - Jensen TopHat Model"
   ]
  },
  {
   "cell_type": "code",
   "execution_count": 33,
   "metadata": {},
   "outputs": [
    {
     "data": {
      "text/plain": [
       "4.641646073369198e12"
      ]
     },
     "execution_count": 33,
     "metadata": {},
     "output_type": "execute_result"
    }
   ],
   "source": [
    "wakedeficitmodel = ff.JensenTopHat()\n",
    "wakedeflectionmodel = ff.JiminezYawDeflection()\n",
    "wakecombinationmodel = ff.SumOfSquaresLocalVelocitySuperposition()\n",
    "localtimodel = ff.LocalTIModelNoLocalTI()\n",
    "model_set = ff.WindFarmModelSet(wakedeficitmodel, wakedeflectionmodel, wakecombinationmodel, localtimodel)\n",
    "\n",
    "AEPJTH = ff.calculate_aep(turbine_x, turbine_y, turbine_z, rotor_diameter,\n",
    "                hub_height, turbine_yaw, ct_models, generator_efficiency, cut_in_speed,\n",
    "                cut_out_speed, rated_speed, rated_power, windresource, power_models, model_set,\n",
    "                rotor_sample_points_y=rotor_points_y,rotor_sample_points_z=rotor_points_z)"
   ]
  },
  {
   "cell_type": "code",
   "execution_count": 34,
   "metadata": {},
   "outputs": [
    {
     "data": {
      "text/plain": [
       "BenchmarkTools.Trial: \n",
       "  memory estimate:  3.06 MiB\n",
       "  allocs estimate:  5798\n",
       "  --------------\n",
       "  minimum time:     141.240 ms (0.00% GC)\n",
       "  median time:      142.509 ms (0.00% GC)\n",
       "  mean time:        143.622 ms (0.05% GC)\n",
       "  maximum time:     156.321 ms (0.00% GC)\n",
       "  --------------\n",
       "  samples:          35\n",
       "  evals/sample:     1"
      ]
     },
     "execution_count": 34,
     "metadata": {},
     "output_type": "execute_result"
    }
   ],
   "source": [
    "@benchmark ff.calculate_aep(turbine_x, turbine_y, turbine_z, rotor_diameter,\n",
    "                hub_height, turbine_yaw, ct_models, generator_efficiency, cut_in_speed,\n",
    "                cut_out_speed, rated_speed, rated_power, windresource, power_models, model_set,\n",
    "                rotor_sample_points_y=rotor_points_y,rotor_sample_points_z=rotor_points_z)"
   ]
  },
  {
   "cell_type": "markdown",
   "metadata": {},
   "source": [
    "### Run FLOWFarm - Jensen Cosine Model"
   ]
  },
  {
   "cell_type": "code",
   "execution_count": 35,
   "metadata": {},
   "outputs": [
    {
     "data": {
      "text/plain": [
       "2.1798487133672505e12"
      ]
     },
     "execution_count": 35,
     "metadata": {},
     "output_type": "execute_result"
    }
   ],
   "source": [
    "wakedeficitmodel = ff.JensenCosine()\n",
    "wakedeflectionmodel = ff.JiminezYawDeflection()\n",
    "wakecombinationmodel = ff.SumOfSquaresLocalVelocitySuperposition()\n",
    "localtimodel = ff.LocalTIModelNoLocalTI()\n",
    "model_set = ff.WindFarmModelSet(wakedeficitmodel, wakedeflectionmodel, wakecombinationmodel, localtimodel)\n",
    "\n",
    "AEPJC = ff.calculate_aep(turbine_x, turbine_y, turbine_z, rotor_diameter,\n",
    "                hub_height, turbine_yaw, ct_models, generator_efficiency, cut_in_speed,\n",
    "                cut_out_speed, rated_speed, rated_power, windresource, power_models, model_set,\n",
    "                rotor_sample_points_y=rotor_points_y,rotor_sample_points_z=rotor_points_z)"
   ]
  },
  {
   "cell_type": "code",
   "execution_count": 36,
   "metadata": {},
   "outputs": [
    {
     "data": {
      "text/plain": [
       "BenchmarkTools.Trial: \n",
       "  memory estimate:  3.06 MiB\n",
       "  allocs estimate:  5797\n",
       "  --------------\n",
       "  minimum time:     198.468 ms (0.00% GC)\n",
       "  median time:      199.786 ms (0.00% GC)\n",
       "  mean time:        200.284 ms (0.03% GC)\n",
       "  maximum time:     205.703 ms (0.00% GC)\n",
       "  --------------\n",
       "  samples:          25\n",
       "  evals/sample:     1"
      ]
     },
     "execution_count": 36,
     "metadata": {},
     "output_type": "execute_result"
    }
   ],
   "source": [
    "@benchmark ff.calculate_aep(turbine_x, turbine_y, turbine_z, rotor_diameter,\n",
    "                hub_height, turbine_yaw, ct_models, generator_efficiency, cut_in_speed,\n",
    "                cut_out_speed, rated_speed, rated_power, windresource, power_models, model_set,\n",
    "                rotor_sample_points_y=rotor_points_y,rotor_sample_points_z=rotor_points_z)"
   ]
  },
  {
   "cell_type": "markdown",
   "metadata": {},
   "source": [
    "### Run FLOWFarm - Bastankhah Model"
   ]
  },
  {
   "cell_type": "code",
   "execution_count": 37,
   "metadata": {},
   "outputs": [
    {
     "data": {
      "text/plain": [
       "3.3255556360784673e12"
      ]
     },
     "execution_count": 37,
     "metadata": {},
     "output_type": "execute_result"
    }
   ],
   "source": [
    "wakedeficitmodel = ff.GaussYaw()\n",
    "wakedeflectionmodel = ff.GaussYawDeflection()\n",
    "wakecombinationmodel = ff.LinearLocalVelocitySuperposition()\n",
    "localtimodel = ff.LocalTIModelMaxTI()\n",
    "model_set = ff.WindFarmModelSet(wakedeficitmodel, wakedeflectionmodel, wakecombinationmodel, localtimodel)\n",
    "\n",
    "AEPB = ff.calculate_aep(turbine_x, turbine_y, turbine_z, rotor_diameter,\n",
    "                hub_height, turbine_yaw, ct_models, generator_efficiency, cut_in_speed,\n",
    "                cut_out_speed, rated_speed, rated_power, windresource, power_models, model_set,\n",
    "                rotor_sample_points_y=rotor_points_y,rotor_sample_points_z=rotor_points_z)"
   ]
  },
  {
   "cell_type": "code",
   "execution_count": 38,
   "metadata": {},
   "outputs": [
    {
     "data": {
      "text/plain": [
       "BenchmarkTools.Trial: \n",
       "  memory estimate:  3.06 MiB\n",
       "  allocs estimate:  5797\n",
       "  --------------\n",
       "  minimum time:     354.367 ms (0.00% GC)\n",
       "  median time:      355.451 ms (0.00% GC)\n",
       "  mean time:        360.253 ms (0.00% GC)\n",
       "  maximum time:     379.231 ms (0.00% GC)\n",
       "  --------------\n",
       "  samples:          14\n",
       "  evals/sample:     1"
      ]
     },
     "execution_count": 38,
     "metadata": {},
     "output_type": "execute_result"
    }
   ],
   "source": [
    "@benchmark ff.calculate_aep(turbine_x, turbine_y, turbine_z, rotor_diameter,\n",
    "                hub_height, turbine_yaw, ct_models, generator_efficiency, cut_in_speed,\n",
    "                cut_out_speed, rated_speed, rated_power, windresource, power_models, model_set,\n",
    "                rotor_sample_points_y=rotor_points_y,rotor_sample_points_z=rotor_points_z)"
   ]
  },
  {
   "cell_type": "markdown",
   "metadata": {},
   "source": [
    "### Run FLOWFarm MultiZone Model"
   ]
  },
  {
   "cell_type": "code",
   "execution_count": 39,
   "metadata": {},
   "outputs": [
    {
     "data": {
      "text/plain": [
       "4.886382673965453e12"
      ]
     },
     "execution_count": 39,
     "metadata": {},
     "output_type": "execute_result"
    }
   ],
   "source": [
    "wakedeficitmodel = ff.Multizone()\n",
    "wakedeflectionmodel = ff.JiminezYawDeflection()\n",
    "wakecombinationmodel = ff.SumOfSquaresLocalVelocitySuperposition()\n",
    "localtimodel = ff.LocalTIModelNoLocalTI()\n",
    "model_set = ff.WindFarmModelSet(wakedeficitmodel, wakedeflectionmodel, wakecombinationmodel, localtimodel)\n",
    "\n",
    "AEPM = ff.calculate_aep(turbine_x, turbine_y, turbine_z, rotor_diameter,\n",
    "                hub_height, turbine_yaw, ct_models, generator_efficiency, cut_in_speed,\n",
    "                cut_out_speed, rated_speed, rated_power, windresource, power_models, model_set,\n",
    "                rotor_sample_points_y=rotor_points_y,rotor_sample_points_z=rotor_points_z)"
   ]
  },
  {
   "cell_type": "code",
   "execution_count": 40,
   "metadata": {},
   "outputs": [
    {
     "data": {
      "text/plain": [
       "BenchmarkTools.Trial: \n",
       "  memory estimate:  252.23 MiB\n",
       "  allocs estimate:  2338593\n",
       "  --------------\n",
       "  minimum time:     264.236 ms (6.01% GC)\n",
       "  median time:      268.212 ms (7.09% GC)\n",
       "  mean time:        270.130 ms (6.85% GC)\n",
       "  maximum time:     300.529 ms (7.20% GC)\n",
       "  --------------\n",
       "  samples:          19\n",
       "  evals/sample:     1"
      ]
     },
     "execution_count": 40,
     "metadata": {},
     "output_type": "execute_result"
    }
   ],
   "source": [
    "@benchmark ff.calculate_aep(turbine_x, turbine_y, turbine_z, rotor_diameter,\n",
    "                hub_height, turbine_yaw, ct_models, generator_efficiency, cut_in_speed,\n",
    "                cut_out_speed, rated_speed, rated_power, windresource, power_models, model_set,\n",
    "                rotor_sample_points_y=rotor_points_y,rotor_sample_points_z=rotor_points_z)"
   ]
  },
  {
   "cell_type": "markdown",
   "metadata": {},
   "source": [
    "### Compare TIP vs TopHat"
   ]
  },
  {
   "cell_type": "code",
   "execution_count": 41,
   "metadata": {
    "scrolled": true
   },
   "outputs": [
    {
     "name": "stdout",
     "output_type": "stream",
     "text": [
      "TIP AEP: 5.106393834190405e12\n",
      "Jensen Top Hat AEP:   4.641646073369198e12\n",
      "Jensen Cosine AEP:   2.1798487133672505e12\n",
      "Multi-Zone AEP:   4.886382673965453e12\n",
      "Bastankhah AEP:   3.3255556360784673e12\n",
      "Error vs Jensen Top Hat:  10.013%\n",
      "Error vs Jensen Cosine:   134.255%\n",
      "Error vs Multi-Zone:  4.503%\n",
      "Error vs Bastankhah:   53.550%\n"
     ]
    }
   ],
   "source": [
    "ErrorTIPvsTopHat = 100*(AEPTIP-AEPJTH)/AEPJTH\n",
    "ErrorTIPvsCosine = 100*(AEPTIP-AEPJC)/AEPJC\n",
    "ErrorTIPvsMultizone = 100*(AEPTIP-AEPM)/AEPM\n",
    "ErrorTIPvsBastankhah = 100*(AEPTIP-AEPB)/AEPB\n",
    "println(\"TIP AEP: \", AEPTIP)\n",
    "println(\"Jensen Top Hat AEP:   \", AEPJTH)\n",
    "println(\"Jensen Cosine AEP:   \", AEPJC)\n",
    "println(\"Multi-Zone AEP:   \", AEPM)\n",
    "println(\"Bastankhah AEP:   \", AEPB)\n",
    "@printf(\"Error vs Jensen Top Hat:  %.3f%%\\n\", ErrorTIPvsTopHat)\n",
    "@printf(\"Error vs Jensen Cosine:   %.3f%%\\n\", ErrorTIPvsCosine)\n",
    "@printf(\"Error vs Multi-Zone:  %.3f%%\\n\", ErrorTIPvsMultizone)\n",
    "@printf(\"Error vs Bastankhah:   %.3f%%\\n\", ErrorTIPvsBastankhah)"
   ]
  },
  {
   "cell_type": "code",
   "execution_count": null,
   "metadata": {},
   "outputs": [],
   "source": []
  }
 ],
 "metadata": {
  "kernelspec": {
   "display_name": "Julia 1.4.1",
   "language": "julia",
   "name": "julia-1.4"
  },
  "language_info": {
   "file_extension": ".jl",
   "mimetype": "application/julia",
   "name": "julia",
   "version": "1.4.1"
  }
 },
 "nbformat": 4,
 "nbformat_minor": 4
}
