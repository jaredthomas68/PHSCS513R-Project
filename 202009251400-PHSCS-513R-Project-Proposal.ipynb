{
 "cells": [
  {
   "cell_type": "markdown",
   "metadata": {},
   "source": [
    "# Project Proposal Promt"
   ]
  },
  {
   "cell_type": "markdown",
   "metadata": {},
   "source": [
    "Submit a 1-2 page proposal as a group answering the following questions:\n",
    "- What will you model?\n",
    "- What observable quantity will your model predict?\n",
    "- How will you know if your model is any good?\n",
    "- What have other people already done to model this phenomenon?  Will you use one of these models or develop one of your own? \n",
    "- What references or sources of information will you draw on to learn about your system and develop an appropriate model?\n",
    "- What data sources, if any, can you use to estimate parameters in your model class to specify your particular model?"
   ]
  },
  {
   "cell_type": "markdown",
   "metadata": {},
   "source": [
    "# What will you model?"
   ]
  },
  {
   "cell_type": "markdown",
   "metadata": {},
   "source": [
    "We plan to model the annual energy production (AEP) of a wind farm in a new way. \n"
   ]
  },
  {
   "cell_type": "markdown",
   "metadata": {},
   "source": [
    "# What observable quantity will your model predict?"
   ]
  },
  {
   "cell_type": "markdown",
   "metadata": {},
   "source": [
    "Our model will specifically be used to predict the annual energy production (AEP) of a wind farm"
   ]
  },
  {
   "cell_type": "markdown",
   "metadata": {},
   "source": [
    "# How will you know if your model is any good?\n",
    "There are many existing models for AEP, and a wealth of published research results. We will compare our results to an open source wind farm code, [FLOWFarm](https://github.com/byuflowlab/FlowFarm.jl) being developed by one of our team members, as well as publised results."
   ]
  },
  {
   "cell_type": "markdown",
   "metadata": {},
   "source": [
    "# What have other people already done to model this phenomenon? Will you use one of these models or develop one of your own?\n",
    "\n",
    "The AEP is generally given by the following equations.\n",
    "\n",
    "\\begin{equation}\n",
    "    AEP = \\frac{hours}{day}\\frac{days}{year}\\sum_{k=1}^{N_D} f_k \\sum_{j=1}^{N_T} P_{jk}\n",
    "\\end{equation}\n",
    "\n",
    "Where $N_D$ is the number of wind directions, $N_T$ is the number of turbines, and $P_{jk}$ is the power of turbine $j$ when the wind is from direction $k$, which is in turn generally calculated by\n",
    "\n",
    "\\begin{equation}\n",
    "P = \n",
    "\\begin{cases}\n",
    "    0 & \\bar{u}_j < u_{cut-in}\\\\\n",
    "    0.5 \\rho A_j C_{Pj} \\bar{u}_j^3 & \\bar{u}_j \\ge u_{cut-in} and P_j < P_{rated} \\\\\n",
    "    P_{rated} & P_j \\ge P_{rated} \\\\\n",
    "    0 & \\bar{u} > u_{rated}\n",
    "\\end{cases}\n",
    "\\end{equation}\n",
    "\n",
    "Where $\\bar{u}_j$ is the effective velocity seen by the wind turbine. The effective velocity is typically calculated using any one of the many extant wind turbine wake models in combination with a wind farm model. Wind turbine wake models predict the wake velocity deficit in a given wind turbine wake, wind farm models combine the wind velocity deficits and calculate a resultant wind speed at a point given all the interacting wakes at that point.\n",
    "\n",
    "Some common wake models are proposed in the following references:\n",
    "- [1] N. O. Jensen. A note on wind generator interaction. Technical report, Risø National Laboratory, DK-4000 Roskilde, Denmark, November 1983.\n",
    "- [2] G. C. Larsen. A simple stationary semi-analytical wake model. Technical report, Risø National Labora- tory, Technical University of Denmark, Roskilde, Denmark, aug 2009.\n",
    "- [3] M. Bastankhah and F. Port ́e-Agel. Experimental and theoretical study of wind turbine wakes in yawed conditions. Journal of Fluid Mechanics, 806:506–541, 2016.\n",
    "\n",
    "Some common wind farm models are proposed in the following references:\n",
    "- [4] I. Katic, J. Højstrup, and N. Jensen. A simple model for cluster efficiency. In European Wind Energy Association Conference and Exhibition, Rome - Italy, October 1986. European Wind Energy Association.\n",
    "- [5] A. Niayifar and F. Port ́e-Agel. Analytical modeling of wind farms: A new approach for power prediction. Energies, 9(9):1–13, 2016.\n",
    "\n",
    "It has recently been found that, because the wake models essentially act as Gaussian basis functions for flow field, wind farm layout optimization can be improved by multiplying the standard deviation of these models so the distributions of the wakes combine, smoothing out local optimia in the design space, and then slowly returning the distributions to their original size in a continuation optimization approach known as wake expansion continuation (WEC) (see [6]). Typical Gaussian continuation optimization relies on radial basis function (see [7]).\n",
    "\n",
    "[6] J. J. Thomas and A. Ning. A method for reducing multi-modality in the wind farm layout optimization problem. In Journal of Physics: Conference Series, volume 1037, Milano, Italy, June 2018. The Science of Making Torque from Wind.\n",
    "\n",
    "[7] H. Mobahi and J. F. III. A theoretical analysis of optimization by gaussian continuation. 2015.)\n",
    "\n",
    "Because the typical approach to modeling AEP involves discretization and modeling each wind direction individually, many wind directions are needed to avoid having optimized layouts dependent on the specific directions used in the discretization. The discrete definition comes primarily from the ways the models are built up from bottom up, starting with the flow of wind through and around a single wind turbine with a single wind direction.\n",
    "\n",
    "We plan to model the flow field as a radial (though not axis-symmetric) distribution centered at each wind turbine location. These radial distributions could then be combined using a norm that would in turn predict the average flow field, or perhaps wind turbine power, throughout the wind farm. These averaged values will then be integrated or combined in some way to predict the AEP. \n",
    "\n",
    "The main benefits that are expected from modelling the farm in this way are (1) reduced computational cost, and (2) improved application and use of the WEC method for wind farm layout optimization."
   ]
  },
  {
   "cell_type": "markdown",
   "metadata": {},
   "source": [
    "# What references or sources of information will you draw on to learn about your system and develop an appropriate model?\n",
    "\n",
    "We will draw on most of the sources mentioned above to learn about our system. For model development we will base our work on the simplist of wake models, given in [1], and the wind farm model most commonly used in conjunction with it, given in [4]."
   ]
  },
  {
   "cell_type": "markdown",
   "metadata": {},
   "source": [
    "# What data sources, if any, can you use to estimate parameters in your model class to specify your particular model?"
   ]
  },
  {
   "cell_type": "markdown",
   "metadata": {},
   "source": [
    "Our primary data source will likely need to be generated by us. This will most likely be done using the open-source software package [FLOWFarm](https://github.com/byuflowlab/FlowFarm.jl) mentioned previously."
   ]
  }
 ],
 "metadata": {
  "kernelspec": {
   "display_name": "Julia 1.4.1",
   "language": "julia",
   "name": "julia-1.4"
  },
  "language_info": {
   "file_extension": ".jl",
   "mimetype": "application/julia",
   "name": "julia",
   "version": "1.4.1"
  }
 },
 "nbformat": 4,
 "nbformat_minor": 4
}
