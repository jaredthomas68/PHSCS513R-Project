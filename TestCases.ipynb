{
 "cells": [
  {
   "cell_type": "code",
   "execution_count": 1,
   "metadata": {},
   "outputs": [
    {
     "data": {
      "text/plain": [
       "FlowFarm"
      ]
     },
     "execution_count": 1,
     "metadata": {},
     "output_type": "execute_result"
    }
   ],
   "source": [
    "using DelimitedFiles \n",
    "using PyPlot\n",
    "using Printf\n",
    "import FlowFarm; const ff = FlowFarm"
   ]
  },
  {
   "cell_type": "markdown",
   "metadata": {},
   "source": [
    "# Amalia"
   ]
  },
  {
   "cell_type": "markdown",
   "metadata": {},
   "source": [
    "## 36 directions"
   ]
  },
  {
   "cell_type": "markdown",
   "metadata": {},
   "source": [
    "### Set Up"
   ]
  },
  {
   "cell_type": "code",
   "execution_count": 2,
   "metadata": {},
   "outputs": [],
   "source": [
    "# include case information\n",
    "include(\"./inputfiles/model_set_10_amalia_wind_park_36dir.jl\");"
   ]
  },
  {
   "cell_type": "markdown",
   "metadata": {},
   "source": [
    "### Run TIP Model"
   ]
  },
  {
   "cell_type": "code",
   "execution_count": 3,
   "metadata": {},
   "outputs": [
    {
     "ename": "LoadError",
     "evalue": "UndefVarError: tip_get_aep not defined",
     "output_type": "error",
     "traceback": [
      "UndefVarError: tip_get_aep not defined",
      "",
      "Stacktrace:",
      " [1] getproperty(::Module, ::Symbol) at .\\Base.jl:26",
      " [2] top-level scope at In[3]:1",
      " [3] include_string(::Function, ::Module, ::String, ::String) at .\\loading.jl:1091"
     ]
    }
   ],
   "source": [
    "AEPTIP = ff.tip_get_aep(turbine_x,turbine_y,wind_data,cpctdata,r0=diam/2.0)"
   ]
  },
  {
   "cell_type": "markdown",
   "metadata": {},
   "source": [
    "### Run FLOWFarm - Jensen TopHat Model"
   ]
  },
  {
   "cell_type": "code",
   "execution_count": 4,
   "metadata": {},
   "outputs": [
    {
     "data": {
      "text/plain": [
       "9.829608776634534e11"
      ]
     },
     "execution_count": 4,
     "metadata": {},
     "output_type": "execute_result"
    }
   ],
   "source": [
    "wakedeficitmodel = ff.JensenTopHat()\n",
    "wakedeflectionmodel = ff.JiminezYawDeflection()\n",
    "wakecombinationmodel = ff.SumOfSquaresLocalVelocitySuperposition()\n",
    "localtimodel = ff.LocalTIModelNoLocalTI()\n",
    "model_set = ff.WindFarmModelSet(wakedeficitmodel, wakedeflectionmodel, wakecombinationmodel, localtimodel)\n",
    "\n",
    "AEPJTH = ff.calculate_aep(turbine_x, turbine_y, turbine_z, rotor_diameter,\n",
    "                hub_height, turbine_yaw, ct_models, generator_efficiency, cut_in_speed,\n",
    "                cut_out_speed, rated_speed, rated_power, windresource, power_models, model_set,\n",
    "                rotor_sample_points_y=rotor_points_y,rotor_sample_points_z=rotor_points_z)"
   ]
  },
  {
   "cell_type": "markdown",
   "metadata": {},
   "source": [
    "### Run FLOWFarm - Jensen Cosine Model"
   ]
  },
  {
   "cell_type": "code",
   "execution_count": 5,
   "metadata": {},
   "outputs": [
    {
     "data": {
      "text/plain": [
       "4.978574385575049e11"
      ]
     },
     "execution_count": 5,
     "metadata": {},
     "output_type": "execute_result"
    }
   ],
   "source": [
    "wakedeficitmodel = ff.JensenCosine()\n",
    "wakedeflectionmodel = ff.JiminezYawDeflection()\n",
    "wakecombinationmodel = ff.SumOfSquaresLocalVelocitySuperposition()\n",
    "localtimodel = ff.LocalTIModelNoLocalTI()\n",
    "model_set = ff.WindFarmModelSet(wakedeficitmodel, wakedeflectionmodel, wakecombinationmodel, localtimodel)\n",
    "\n",
    "AEPJC = ff.calculate_aep(turbine_x, turbine_y, turbine_z, rotor_diameter,\n",
    "                hub_height, turbine_yaw, ct_models, generator_efficiency, cut_in_speed,\n",
    "                cut_out_speed, rated_speed, rated_power, windresource, power_models, model_set,\n",
    "                rotor_sample_points_y=rotor_points_y,rotor_sample_points_z=rotor_points_z)"
   ]
  },
  {
   "cell_type": "markdown",
   "metadata": {},
   "source": [
    "### Run FLOWFarm - Bastankhah Model"
   ]
  },
  {
   "cell_type": "code",
   "execution_count": 6,
   "metadata": {},
   "outputs": [
    {
     "ename": "LoadError",
     "evalue": "TaskFailedException:\nDomainError with -0.010074018487300718:\nsqrt will only return a complex result if called with a complex argument. Try sqrt(Complex(x)).\nthrow_complex_domainerror(::Symbol, ::Float64) at .\\math.jl:33\nsqrt at .\\math.jl:573 [inlined]\n_bpa_theta_0 at C:\\Users\\coy\\.julia\\dev\\FlowFarm\\src\\wake_deflection_models.jl:92 [inlined]\nwake_deflection_model(::Float64, ::Float64, ::Float64, ::Array{Float64,1}, ::Array{Float64,1}, ::Array{Float64,1}, ::Int64, ::Array{Float64,1}, ::Array{Float64,1}, ::FlowFarm.GaussYawDeflection{Float64}) at C:\\Users\\coy\\.julia\\dev\\FlowFarm\\src\\wake_deflection_models.jl:129\npoint_velocity(::Float64, ::Float64, ::Float64, ::Array{Float64,1}, ::Array{Float64,1}, ::Array{Float64,1}, ::Array{Float64,1}, ::Array{Float64,1}, ::Array{Float64,1}, ::Array{Float64,1}, ::Array{Float64,1}, ::Array{Float64,1}, ::Array{Int64,1}, ::Array{Float64,1}, ::FlowFarm.DiscretizedWindResource{Array{Float64,1},Float64,FlowFarm.PowerLawWindShear{Float64}}, ::FlowFarm.WindFarmModelSet{FlowFarm.GaussYaw{Float64,Array{Float64,1}},FlowFarm.GaussYawDeflection{Float64},FlowFarm.LinearLocalVelocitySuperposition,FlowFarm.LocalTIModelMaxTI{Float64}}; wind_farm_state_id::Int64, downwind_turbine_id::Int64) at C:\\Users\\coy\\.julia\\dev\\FlowFarm\\src\\general_models.jl:128\nturbine_velocities_one_direction(::Array{Float64,1}, ::Array{Float64,1}, ::Array{Float64,1}, ::Array{Float64,1}, ::Array{Float64,1}, ::Array{Float64,1}, ::Array{Int64,1}, ::Array{FlowFarm.ThrustModelCtPoints{Array{Float64,1}},1}, ::Array{Float64,1}, ::Array{Float64,1}, ::FlowFarm.DiscretizedWindResource{Array{Float64,1},Float64,FlowFarm.PowerLawWindShear{Float64}}, ::FlowFarm.WindFarmModelSet{FlowFarm.GaussYaw{Float64,Array{Float64,1}},FlowFarm.GaussYawDeflection{Float64},FlowFarm.LinearLocalVelocitySuperposition,FlowFarm.LocalTIModelMaxTI{Float64}}; wind_farm_state_id::Int64, velocity_only::Bool) at C:\\Users\\coy\\.julia\\dev\\FlowFarm\\src\\general_models.jl:228\ncalculate_state_aep(::Array{Float64,1}, ::Array{Float64,1}, ::Array{Float64,1}, ::Array{Float64,1}, ::Array{Float64,1}, ::Array{Float64,1}, ::Array{FlowFarm.ThrustModelCtPoints{Array{Float64,1}},1}, ::Array{Float64,1}, ::Array{Float64,1}, ::Array{Float64,1}, ::Array{Float64,1}, ::Array{Float64,1}, ::Array{FlowFarm.PowerModelCpPoints{Array{Float64,1},Int64},1}, ::Array{Float64,1}, ::Array{Float64,1}, ::FlowFarm.DiscretizedWindResource{Array{Float64,1},Float64,FlowFarm.PowerLawWindShear{Float64}}, ::FlowFarm.WindFarmModelSet{FlowFarm.GaussYaw{Float64,Array{Float64,1}},FlowFarm.GaussYawDeflection{Float64},FlowFarm.LinearLocalVelocitySuperposition,FlowFarm.LocalTIModelMaxTI{Float64}}; wind_farm_state_id::Int64, hours_per_year::Float64, velocity_only::Bool) at C:\\Users\\coy\\.julia\\dev\\FlowFarm\\src\\power_models.jl:438\nmacro expansion at C:\\Users\\coy\\.julia\\dev\\FlowFarm\\src\\power_models.jl:521 [inlined]\n(::FlowFarm.var\"#23#25\"{Array{Float64,1},Array{Float64,1},Float64,Array{Float64,1},Array{Float64,1},Array{Float64,1},Array{Float64,1},Array{Float64,1},Array{Float64,1},Array{FlowFarm.ThrustModelCtPoints{Array{Float64,1}},1},Array{Float64,1},Array{Float64,1},Array{Float64,1},Array{Float64,1},Array{Float64,1},FlowFarm.DiscretizedWindResource{Array{Float64,1},Float64,FlowFarm.PowerLawWindShear{Float64}},Array{FlowFarm.PowerModelCpPoints{Array{Float64,1},Int64},1},FlowFarm.WindFarmModelSet{FlowFarm.GaussYaw{Float64,Array{Float64,1}},FlowFarm.GaussYawDeflection{Float64},FlowFarm.LinearLocalVelocitySuperposition,FlowFarm.LocalTIModelMaxTI{Float64}}})(::typeof(+), ::UnitRange{Int64}, ::Int64, ::Int64) at C:\\buildbot\\worker\\package_win64\\build\\usr\\share\\julia\\stdlib\\v1.5\\Distributed\\src\\macros.jl:289\n#137 at C:\\buildbot\\worker\\package_win64\\build\\usr\\share\\julia\\stdlib\\v1.5\\Distributed\\src\\remotecall.jl:354 [inlined]\nrun_work_thunk(::Distributed.var\"#137#138\"{FlowFarm.var\"#23#25\"{Array{Float64,1},Array{Float64,1},Float64,Array{Float64,1},Array{Float64,1},Array{Float64,1},Array{Float64,1},Array{Float64,1},Array{Float64,1},Array{FlowFarm.ThrustModelCtPoints{Array{Float64,1}},1},Array{Float64,1},Array{Float64,1},Array{Float64,1},Array{Float64,1},Array{Float64,1},FlowFarm.DiscretizedWindResource{Array{Float64,1},Float64,FlowFarm.PowerLawWindShear{Float64}},Array{FlowFarm.PowerModelCpPoints{Array{Float64,1},Int64},1},FlowFarm.WindFarmModelSet{FlowFarm.GaussYaw{Float64,Array{Float64,1}},FlowFarm.GaussYawDeflection{Float64},FlowFarm.LinearLocalVelocitySuperposition,FlowFarm.LocalTIModelMaxTI{Float64}}},Tuple{typeof(+),UnitRange{Int64},Int64,Int64},Base.Iterators.Pairs{Union{},Union{},Tuple{},NamedTuple{(),Tuple{}}}}, ::Bool) at C:\\buildbot\\worker\\package_win64\\build\\usr\\share\\julia\\stdlib\\v1.5\\Distributed\\src\\process_messages.jl:79\nremotecall_fetch(::Function, ::Distributed.LocalProcess, ::Function, ::Vararg{Any,N} where N; kwargs::Base.Iterators.Pairs{Union{},Union{},Tuple{},NamedTuple{(),Tuple{}}}) at C:\\buildbot\\worker\\package_win64\\build\\usr\\share\\julia\\stdlib\\v1.5\\Distributed\\src\\remotecall.jl:379\nremotecall_fetch(::Function, ::Distributed.LocalProcess, ::Function, ::Vararg{Any,N} where N) at C:\\buildbot\\worker\\package_win64\\build\\usr\\share\\julia\\stdlib\\v1.5\\Distributed\\src\\remotecall.jl:379\nremotecall_fetch(::Function, ::Int64, ::Function, ::Vararg{Any,N} where N; kwargs::Base.Iterators.Pairs{Union{},Union{},Tuple{},NamedTuple{(),Tuple{}}}) at C:\\buildbot\\worker\\package_win64\\build\\usr\\share\\julia\\stdlib\\v1.5\\Distributed\\src\\remotecall.jl:421\nremotecall_fetch at C:\\buildbot\\worker\\package_win64\\build\\usr\\share\\julia\\stdlib\\v1.5\\Distributed\\src\\remotecall.jl:421 [inlined]\n(::Distributed.var\"#157#158\"{typeof(+),FlowFarm.var\"#23#25\"{Array{Float64,1},Array{Float64,1},Float64,Array{Float64,1},Array{Float64,1},Array{Float64,1},Array{Float64,1},Array{Float64,1},Array{Float64,1},Array{FlowFarm.ThrustModelCtPoints{Array{Float64,1}},1},Array{Float64,1},Array{Float64,1},Array{Float64,1},Array{Float64,1},Array{Float64,1},FlowFarm.DiscretizedWindResource{Array{Float64,1},Float64,FlowFarm.PowerLawWindShear{Float64}},Array{FlowFarm.PowerModelCpPoints{Array{Float64,1},Int64},1},FlowFarm.WindFarmModelSet{FlowFarm.GaussYaw{Float64,Array{Float64,1}},FlowFarm.GaussYawDeflection{Float64},FlowFarm.LinearLocalVelocitySuperposition,FlowFarm.LocalTIModelMaxTI{Float64}}},UnitRange{Int64},Array{UnitRange{Int64},1},Int64,Int64})() at C:\\buildbot\\worker\\package_win64\\build\\usr\\share\\julia\\stdlib\\v1.5\\Distributed\\src\\macros.jl:269\nStacktrace:\n [1] remotecall_fetch(::Function, ::Distributed.LocalProcess, ::Function, ::Vararg{Any,N} where N; kwargs::Base.Iterators.Pairs{Union{},Union{},Tuple{},NamedTuple{(),Tuple{}}}) at C:\\buildbot\\worker\\package_win64\\build\\usr\\share\\julia\\stdlib\\v1.5\\Distributed\\src\\remotecall.jl:380\n [2] remotecall_fetch(::Function, ::Distributed.LocalProcess, ::Function, ::Vararg{Any,N} where N) at C:\\buildbot\\worker\\package_win64\\build\\usr\\share\\julia\\stdlib\\v1.5\\Distributed\\src\\remotecall.jl:379\n [3] remotecall_fetch(::Function, ::Int64, ::Function, ::Vararg{Any,N} where N; kwargs::Base.Iterators.Pairs{Union{},Union{},Tuple{},NamedTuple{(),Tuple{}}}) at C:\\buildbot\\worker\\package_win64\\build\\usr\\share\\julia\\stdlib\\v1.5\\Distributed\\src\\remotecall.jl:421\n [4] remotecall_fetch at C:\\buildbot\\worker\\package_win64\\build\\usr\\share\\julia\\stdlib\\v1.5\\Distributed\\src\\remotecall.jl:421 [inlined]\n [5] (::Distributed.var\"#157#158\"{typeof(+),FlowFarm.var\"#23#25\"{Array{Float64,1},Array{Float64,1},Float64,Array{Float64,1},Array{Float64,1},Array{Float64,1},Array{Float64,1},Array{Float64,1},Array{Float64,1},Array{FlowFarm.ThrustModelCtPoints{Array{Float64,1}},1},Array{Float64,1},Array{Float64,1},Array{Float64,1},Array{Float64,1},Array{Float64,1},FlowFarm.DiscretizedWindResource{Array{Float64,1},Float64,FlowFarm.PowerLawWindShear{Float64}},Array{FlowFarm.PowerModelCpPoints{Array{Float64,1},Int64},1},FlowFarm.WindFarmModelSet{FlowFarm.GaussYaw{Float64,Array{Float64,1}},FlowFarm.GaussYawDeflection{Float64},FlowFarm.LinearLocalVelocitySuperposition,FlowFarm.LocalTIModelMaxTI{Float64}}},UnitRange{Int64},Array{UnitRange{Int64},1},Int64,Int64})() at C:\\buildbot\\worker\\package_win64\\build\\usr\\share\\julia\\stdlib\\v1.5\\Distributed\\src\\macros.jl:269",
     "output_type": "error",
     "traceback": [
      "TaskFailedException:\nDomainError with -0.010074018487300718:\nsqrt will only return a complex result if called with a complex argument. Try sqrt(Complex(x)).\nthrow_complex_domainerror(::Symbol, ::Float64) at .\\math.jl:33\nsqrt at .\\math.jl:573 [inlined]\n_bpa_theta_0 at C:\\Users\\coy\\.julia\\dev\\FlowFarm\\src\\wake_deflection_models.jl:92 [inlined]\nwake_deflection_model(::Float64, ::Float64, ::Float64, ::Array{Float64,1}, ::Array{Float64,1}, ::Array{Float64,1}, ::Int64, ::Array{Float64,1}, ::Array{Float64,1}, ::FlowFarm.GaussYawDeflection{Float64}) at C:\\Users\\coy\\.julia\\dev\\FlowFarm\\src\\wake_deflection_models.jl:129\npoint_velocity(::Float64, ::Float64, ::Float64, ::Array{Float64,1}, ::Array{Float64,1}, ::Array{Float64,1}, ::Array{Float64,1}, ::Array{Float64,1}, ::Array{Float64,1}, ::Array{Float64,1}, ::Array{Float64,1}, ::Array{Float64,1}, ::Array{Int64,1}, ::Array{Float64,1}, ::FlowFarm.DiscretizedWindResource{Array{Float64,1},Float64,FlowFarm.PowerLawWindShear{Float64}}, ::FlowFarm.WindFarmModelSet{FlowFarm.GaussYaw{Float64,Array{Float64,1}},FlowFarm.GaussYawDeflection{Float64},FlowFarm.LinearLocalVelocitySuperposition,FlowFarm.LocalTIModelMaxTI{Float64}}; wind_farm_state_id::Int64, downwind_turbine_id::Int64) at C:\\Users\\coy\\.julia\\dev\\FlowFarm\\src\\general_models.jl:128\nturbine_velocities_one_direction(::Array{Float64,1}, ::Array{Float64,1}, ::Array{Float64,1}, ::Array{Float64,1}, ::Array{Float64,1}, ::Array{Float64,1}, ::Array{Int64,1}, ::Array{FlowFarm.ThrustModelCtPoints{Array{Float64,1}},1}, ::Array{Float64,1}, ::Array{Float64,1}, ::FlowFarm.DiscretizedWindResource{Array{Float64,1},Float64,FlowFarm.PowerLawWindShear{Float64}}, ::FlowFarm.WindFarmModelSet{FlowFarm.GaussYaw{Float64,Array{Float64,1}},FlowFarm.GaussYawDeflection{Float64},FlowFarm.LinearLocalVelocitySuperposition,FlowFarm.LocalTIModelMaxTI{Float64}}; wind_farm_state_id::Int64, velocity_only::Bool) at C:\\Users\\coy\\.julia\\dev\\FlowFarm\\src\\general_models.jl:228\ncalculate_state_aep(::Array{Float64,1}, ::Array{Float64,1}, ::Array{Float64,1}, ::Array{Float64,1}, ::Array{Float64,1}, ::Array{Float64,1}, ::Array{FlowFarm.ThrustModelCtPoints{Array{Float64,1}},1}, ::Array{Float64,1}, ::Array{Float64,1}, ::Array{Float64,1}, ::Array{Float64,1}, ::Array{Float64,1}, ::Array{FlowFarm.PowerModelCpPoints{Array{Float64,1},Int64},1}, ::Array{Float64,1}, ::Array{Float64,1}, ::FlowFarm.DiscretizedWindResource{Array{Float64,1},Float64,FlowFarm.PowerLawWindShear{Float64}}, ::FlowFarm.WindFarmModelSet{FlowFarm.GaussYaw{Float64,Array{Float64,1}},FlowFarm.GaussYawDeflection{Float64},FlowFarm.LinearLocalVelocitySuperposition,FlowFarm.LocalTIModelMaxTI{Float64}}; wind_farm_state_id::Int64, hours_per_year::Float64, velocity_only::Bool) at C:\\Users\\coy\\.julia\\dev\\FlowFarm\\src\\power_models.jl:438\nmacro expansion at C:\\Users\\coy\\.julia\\dev\\FlowFarm\\src\\power_models.jl:521 [inlined]\n(::FlowFarm.var\"#23#25\"{Array{Float64,1},Array{Float64,1},Float64,Array{Float64,1},Array{Float64,1},Array{Float64,1},Array{Float64,1},Array{Float64,1},Array{Float64,1},Array{FlowFarm.ThrustModelCtPoints{Array{Float64,1}},1},Array{Float64,1},Array{Float64,1},Array{Float64,1},Array{Float64,1},Array{Float64,1},FlowFarm.DiscretizedWindResource{Array{Float64,1},Float64,FlowFarm.PowerLawWindShear{Float64}},Array{FlowFarm.PowerModelCpPoints{Array{Float64,1},Int64},1},FlowFarm.WindFarmModelSet{FlowFarm.GaussYaw{Float64,Array{Float64,1}},FlowFarm.GaussYawDeflection{Float64},FlowFarm.LinearLocalVelocitySuperposition,FlowFarm.LocalTIModelMaxTI{Float64}}})(::typeof(+), ::UnitRange{Int64}, ::Int64, ::Int64) at C:\\buildbot\\worker\\package_win64\\build\\usr\\share\\julia\\stdlib\\v1.5\\Distributed\\src\\macros.jl:289\n#137 at C:\\buildbot\\worker\\package_win64\\build\\usr\\share\\julia\\stdlib\\v1.5\\Distributed\\src\\remotecall.jl:354 [inlined]\nrun_work_thunk(::Distributed.var\"#137#138\"{FlowFarm.var\"#23#25\"{Array{Float64,1},Array{Float64,1},Float64,Array{Float64,1},Array{Float64,1},Array{Float64,1},Array{Float64,1},Array{Float64,1},Array{Float64,1},Array{FlowFarm.ThrustModelCtPoints{Array{Float64,1}},1},Array{Float64,1},Array{Float64,1},Array{Float64,1},Array{Float64,1},Array{Float64,1},FlowFarm.DiscretizedWindResource{Array{Float64,1},Float64,FlowFarm.PowerLawWindShear{Float64}},Array{FlowFarm.PowerModelCpPoints{Array{Float64,1},Int64},1},FlowFarm.WindFarmModelSet{FlowFarm.GaussYaw{Float64,Array{Float64,1}},FlowFarm.GaussYawDeflection{Float64},FlowFarm.LinearLocalVelocitySuperposition,FlowFarm.LocalTIModelMaxTI{Float64}}},Tuple{typeof(+),UnitRange{Int64},Int64,Int64},Base.Iterators.Pairs{Union{},Union{},Tuple{},NamedTuple{(),Tuple{}}}}, ::Bool) at C:\\buildbot\\worker\\package_win64\\build\\usr\\share\\julia\\stdlib\\v1.5\\Distributed\\src\\process_messages.jl:79\nremotecall_fetch(::Function, ::Distributed.LocalProcess, ::Function, ::Vararg{Any,N} where N; kwargs::Base.Iterators.Pairs{Union{},Union{},Tuple{},NamedTuple{(),Tuple{}}}) at C:\\buildbot\\worker\\package_win64\\build\\usr\\share\\julia\\stdlib\\v1.5\\Distributed\\src\\remotecall.jl:379\nremotecall_fetch(::Function, ::Distributed.LocalProcess, ::Function, ::Vararg{Any,N} where N) at C:\\buildbot\\worker\\package_win64\\build\\usr\\share\\julia\\stdlib\\v1.5\\Distributed\\src\\remotecall.jl:379\nremotecall_fetch(::Function, ::Int64, ::Function, ::Vararg{Any,N} where N; kwargs::Base.Iterators.Pairs{Union{},Union{},Tuple{},NamedTuple{(),Tuple{}}}) at C:\\buildbot\\worker\\package_win64\\build\\usr\\share\\julia\\stdlib\\v1.5\\Distributed\\src\\remotecall.jl:421\nremotecall_fetch at C:\\buildbot\\worker\\package_win64\\build\\usr\\share\\julia\\stdlib\\v1.5\\Distributed\\src\\remotecall.jl:421 [inlined]\n(::Distributed.var\"#157#158\"{typeof(+),FlowFarm.var\"#23#25\"{Array{Float64,1},Array{Float64,1},Float64,Array{Float64,1},Array{Float64,1},Array{Float64,1},Array{Float64,1},Array{Float64,1},Array{Float64,1},Array{FlowFarm.ThrustModelCtPoints{Array{Float64,1}},1},Array{Float64,1},Array{Float64,1},Array{Float64,1},Array{Float64,1},Array{Float64,1},FlowFarm.DiscretizedWindResource{Array{Float64,1},Float64,FlowFarm.PowerLawWindShear{Float64}},Array{FlowFarm.PowerModelCpPoints{Array{Float64,1},Int64},1},FlowFarm.WindFarmModelSet{FlowFarm.GaussYaw{Float64,Array{Float64,1}},FlowFarm.GaussYawDeflection{Float64},FlowFarm.LinearLocalVelocitySuperposition,FlowFarm.LocalTIModelMaxTI{Float64}}},UnitRange{Int64},Array{UnitRange{Int64},1},Int64,Int64})() at C:\\buildbot\\worker\\package_win64\\build\\usr\\share\\julia\\stdlib\\v1.5\\Distributed\\src\\macros.jl:269\nStacktrace:\n [1] remotecall_fetch(::Function, ::Distributed.LocalProcess, ::Function, ::Vararg{Any,N} where N; kwargs::Base.Iterators.Pairs{Union{},Union{},Tuple{},NamedTuple{(),Tuple{}}}) at C:\\buildbot\\worker\\package_win64\\build\\usr\\share\\julia\\stdlib\\v1.5\\Distributed\\src\\remotecall.jl:380\n [2] remotecall_fetch(::Function, ::Distributed.LocalProcess, ::Function, ::Vararg{Any,N} where N) at C:\\buildbot\\worker\\package_win64\\build\\usr\\share\\julia\\stdlib\\v1.5\\Distributed\\src\\remotecall.jl:379\n [3] remotecall_fetch(::Function, ::Int64, ::Function, ::Vararg{Any,N} where N; kwargs::Base.Iterators.Pairs{Union{},Union{},Tuple{},NamedTuple{(),Tuple{}}}) at C:\\buildbot\\worker\\package_win64\\build\\usr\\share\\julia\\stdlib\\v1.5\\Distributed\\src\\remotecall.jl:421\n [4] remotecall_fetch at C:\\buildbot\\worker\\package_win64\\build\\usr\\share\\julia\\stdlib\\v1.5\\Distributed\\src\\remotecall.jl:421 [inlined]\n [5] (::Distributed.var\"#157#158\"{typeof(+),FlowFarm.var\"#23#25\"{Array{Float64,1},Array{Float64,1},Float64,Array{Float64,1},Array{Float64,1},Array{Float64,1},Array{Float64,1},Array{Float64,1},Array{Float64,1},Array{FlowFarm.ThrustModelCtPoints{Array{Float64,1}},1},Array{Float64,1},Array{Float64,1},Array{Float64,1},Array{Float64,1},Array{Float64,1},FlowFarm.DiscretizedWindResource{Array{Float64,1},Float64,FlowFarm.PowerLawWindShear{Float64}},Array{FlowFarm.PowerModelCpPoints{Array{Float64,1},Int64},1},FlowFarm.WindFarmModelSet{FlowFarm.GaussYaw{Float64,Array{Float64,1}},FlowFarm.GaussYawDeflection{Float64},FlowFarm.LinearLocalVelocitySuperposition,FlowFarm.LocalTIModelMaxTI{Float64}}},UnitRange{Int64},Array{UnitRange{Int64},1},Int64,Int64})() at C:\\buildbot\\worker\\package_win64\\build\\usr\\share\\julia\\stdlib\\v1.5\\Distributed\\src\\macros.jl:269",
      "",
      "Stacktrace:",
      " [1] wait at .\\task.jl:267 [inlined]",
      " [2] fetch at .\\task.jl:282 [inlined]",
      " [3] iterate at .\\generator.jl:47 [inlined]",
      " [4] collect(::Base.Generator{Array{Task,1},typeof(fetch)}) at .\\array.jl:686",
      " [5] preduce(::Function, ::Function, ::UnitRange{Int64}) at C:\\buildbot\\worker\\package_win64\\build\\usr\\share\\julia\\stdlib\\v1.5\\Distributed\\src\\macros.jl:273",
      " [6] macro expansion at .\\task.jl:332 [inlined]",
      " [7] calculate_aep(::Array{Float64,1}, ::Array{Float64,1}, ::Array{Float64,1}, ::Array{Float64,1}, ::Array{Float64,1}, ::Array{Float64,1}, ::Array{FlowFarm.ThrustModelCtPoints{Array{Float64,1}},1}, ::Array{Float64,1}, ::Array{Float64,1}, ::Array{Float64,1}, ::Array{Float64,1}, ::Array{Float64,1}, ::FlowFarm.DiscretizedWindResource{Array{Float64,1},Float64,FlowFarm.PowerLawWindShear{Float64}}, ::Array{FlowFarm.PowerModelCpPoints{Array{Float64,1},Int64},1}, ::FlowFarm.WindFarmModelSet{FlowFarm.GaussYaw{Float64,Array{Float64,1}},FlowFarm.GaussYawDeflection{Float64},FlowFarm.LinearLocalVelocitySuperposition,FlowFarm.LocalTIModelMaxTI{Float64}}; rotor_sample_points_y::Array{Float64,1}, rotor_sample_points_z::Array{Float64,1}, hours_per_year::Float64) at C:\\Users\\coy\\.julia\\dev\\FlowFarm\\src\\power_models.jl:520",
      " [8] top-level scope at In[6]:7",
      " [9] include_string(::Function, ::Module, ::String, ::String) at .\\loading.jl:1091"
     ]
    }
   ],
   "source": [
    "wakedeficitmodel = ff.GaussYaw()\n",
    "wakedeflectionmodel = ff.GaussYawDeflection()\n",
    "wakecombinationmodel = ff.LinearLocalVelocitySuperposition()\n",
    "localtimodel = ff.LocalTIModelMaxTI()\n",
    "model_set = ff.WindFarmModelSet(wakedeficitmodel, wakedeflectionmodel, wakecombinationmodel, localtimodel)\n",
    "\n",
    "AEPB = ff.calculate_aep(turbine_x, turbine_y, turbine_z, rotor_diameter,\n",
    "                hub_height, turbine_yaw, ct_models, generator_efficiency, cut_in_speed,\n",
    "                cut_out_speed, rated_speed, rated_power, windresource, power_models, model_set,\n",
    "                rotor_sample_points_y=rotor_points_y,rotor_sample_points_z=rotor_points_z)"
   ]
  },
  {
   "cell_type": "markdown",
   "metadata": {},
   "source": [
    "### Run FLOWFarm MultiZone Model"
   ]
  },
  {
   "cell_type": "code",
   "execution_count": 7,
   "metadata": {},
   "outputs": [
    {
     "ename": "LoadError",
     "evalue": "MethodError: no method matching FlowFarm.Multizone(::Float64, ::Array{Float64,2}, ::Array{Float64,2}, ::Float64, ::Float64)\nClosest candidates are:\n  FlowFarm.Multizone(::ATF, ::TF, !Matched::ATF, !Matched::TF, !Matched::TF) where {ATF, TF} at C:\\Users\\coy\\.julia\\dev\\FlowFarm\\src\\wake_deficit_models.jl:47",
     "output_type": "error",
     "traceback": [
      "MethodError: no method matching FlowFarm.Multizone(::Float64, ::Array{Float64,2}, ::Array{Float64,2}, ::Float64, ::Float64)\nClosest candidates are:\n  FlowFarm.Multizone(::ATF, ::TF, !Matched::ATF, !Matched::TF, !Matched::TF) where {ATF, TF} at C:\\Users\\coy\\.julia\\dev\\FlowFarm\\src\\wake_deficit_models.jl:47",
      "",
      "Stacktrace:",
      " [1] FlowFarm.Multizone() at C:\\Users\\coy\\.julia\\dev\\FlowFarm\\src\\wake_deficit_models.jl:53",
      " [2] top-level scope at In[7]:1",
      " [3] include_string(::Function, ::Module, ::String, ::String) at .\\loading.jl:1091"
     ]
    }
   ],
   "source": [
    "wakedeficitmodel = ff.Multizone()\n",
    "wakedeflectionmodel = ff.JiminezYawDeflection()\n",
    "wakecombinationmodel = ff.SumOfSquaresLocalVelocitySuperposition()\n",
    "localtimodel = ff.LocalTIModelNoLocalTI()\n",
    "model_set = ff.WindFarmModelSet(wakedeficitmodel, wakedeflectionmodel, wakecombinationmodel, localtimodel)\n",
    "\n",
    "AEPM = ff.calculate_aep(turbine_x, turbine_y, turbine_z, rotor_diameter,\n",
    "                hub_height, turbine_yaw, ct_models, generator_efficiency, cut_in_speed,\n",
    "                cut_out_speed, rated_speed, rated_power, windresource, power_models, model_set,\n",
    "                rotor_sample_points_y=rotor_points_y,rotor_sample_points_z=rotor_points_z)"
   ]
  },
  {
   "cell_type": "markdown",
   "metadata": {},
   "source": [
    "### Compare TIP vs TopHat"
   ]
  },
  {
   "cell_type": "code",
   "execution_count": 8,
   "metadata": {
    "scrolled": true
   },
   "outputs": [
    {
     "ename": "LoadError",
     "evalue": "UndefVarError: AEPTIP not defined",
     "output_type": "error",
     "traceback": [
      "UndefVarError: AEPTIP not defined",
      "",
      "Stacktrace:",
      " [1] top-level scope at In[8]:1",
      " [2] include_string(::Function, ::Module, ::String, ::String) at .\\loading.jl:1091"
     ]
    }
   ],
   "source": [
    "ErrorTIPvsTopHat = 100*(AEPTIP-AEPTH)/AEPTH\n",
    "ErrorTIPvsCosine = 100*(AEPTIP-AEPJC)/AEPJC\n",
    "ErrorTIPvsMultizone = 100*(AEPTIP-AEPM)/AEPM\n",
    "ErrorTIPvsBastankhah = 100*(AEPTIP-AEPB)/AEPB\n",
    "println(\"TIP AEP: \", AEPTIP)\n",
    "println(\"Jensen Top Hat AEP:   \", AEPTH)\n",
    "println(\"Jensen Cosine AEP:   \", AEPJC)\n",
    "println(\"Multi-Zone AEP:   \", AEPM)\n",
    "println(\"Bastankhah AEP:   \", AEPB)\n",
    "@printf(\"Error vs Jensen Top Hat:  %.2f%%\\n\", ErrorTIPvsTopHat)\n",
    "@printf(\"Error vs Jensen Cosine:   %.2f%%\\n\", ErrorTIPvsCosine)\n",
    "@printf(\"Error vs Multi-Zone:  %.2f%%\\n\", ErrorTIPvsMultizone)\n",
    "@printf(\"Error vs Bastankhah:   %.2f%%\\n\", ErrorTIPvsBastankhah)"
   ]
  },
  {
   "cell_type": "markdown",
   "metadata": {},
   "source": [
    "## 72 directions"
   ]
  },
  {
   "cell_type": "markdown",
   "metadata": {},
   "source": [
    "### Set Up"
   ]
  },
  {
   "cell_type": "code",
   "execution_count": 9,
   "metadata": {},
   "outputs": [],
   "source": [
    "# include case information\n",
    "include(\"./inputfiles/model_set_10_amalia_wind_park_72dir.jl\");"
   ]
  },
  {
   "cell_type": "markdown",
   "metadata": {},
   "source": [
    "### Run TIP Model"
   ]
  },
  {
   "cell_type": "code",
   "execution_count": 10,
   "metadata": {},
   "outputs": [
    {
     "ename": "LoadError",
     "evalue": "UndefVarError: tip_get_aep not defined",
     "output_type": "error",
     "traceback": [
      "UndefVarError: tip_get_aep not defined",
      "",
      "Stacktrace:",
      " [1] getproperty(::Module, ::Symbol) at .\\Base.jl:26",
      " [2] top-level scope at In[10]:1",
      " [3] include_string(::Function, ::Module, ::String, ::String) at .\\loading.jl:1091"
     ]
    }
   ],
   "source": [
    "AEPTIP = ff.tip_get_aep(turbine_x,turbine_y,wind_data,cpctdata,r0=diam/2.0)"
   ]
  },
  {
   "cell_type": "markdown",
   "metadata": {},
   "source": [
    "### Run FLOWFarm - Jensen TopHat Model"
   ]
  },
  {
   "cell_type": "code",
   "execution_count": 11,
   "metadata": {},
   "outputs": [
    {
     "data": {
      "text/plain": [
       "9.824747801755851e11"
      ]
     },
     "execution_count": 11,
     "metadata": {},
     "output_type": "execute_result"
    }
   ],
   "source": [
    "wakedeficitmodel = ff.JensenTopHat()\n",
    "wakedeflectionmodel = ff.JiminezYawDeflection()\n",
    "wakecombinationmodel = ff.SumOfSquaresLocalVelocitySuperposition()\n",
    "localtimodel = ff.LocalTIModelNoLocalTI()\n",
    "model_set = ff.WindFarmModelSet(wakedeficitmodel, wakedeflectionmodel, wakecombinationmodel, localtimodel)\n",
    "\n",
    "AEPJTH = ff.calculate_aep(turbine_x, turbine_y, turbine_z, rotor_diameter,\n",
    "                hub_height, turbine_yaw, ct_models, generator_efficiency, cut_in_speed,\n",
    "                cut_out_speed, rated_speed, rated_power, windresource, power_models, model_set,\n",
    "                rotor_sample_points_y=rotor_points_y,rotor_sample_points_z=rotor_points_z)"
   ]
  },
  {
   "cell_type": "markdown",
   "metadata": {},
   "source": [
    "### Run FLOWFarm - Jensen Cosine Model"
   ]
  },
  {
   "cell_type": "code",
   "execution_count": 12,
   "metadata": {},
   "outputs": [
    {
     "data": {
      "text/plain": [
       "5.040079803936201e11"
      ]
     },
     "execution_count": 12,
     "metadata": {},
     "output_type": "execute_result"
    }
   ],
   "source": [
    "wakedeficitmodel = ff.JensenCosine()\n",
    "wakedeflectionmodel = ff.JiminezYawDeflection()\n",
    "wakecombinationmodel = ff.SumOfSquaresLocalVelocitySuperposition()\n",
    "localtimodel = ff.LocalTIModelNoLocalTI()\n",
    "model_set = ff.WindFarmModelSet(wakedeficitmodel, wakedeflectionmodel, wakecombinationmodel, localtimodel)\n",
    "\n",
    "AEPJC = ff.calculate_aep(turbine_x, turbine_y, turbine_z, rotor_diameter,\n",
    "                hub_height, turbine_yaw, ct_models, generator_efficiency, cut_in_speed,\n",
    "                cut_out_speed, rated_speed, rated_power, windresource, power_models, model_set,\n",
    "                rotor_sample_points_y=rotor_points_y,rotor_sample_points_z=rotor_points_z)"
   ]
  },
  {
   "cell_type": "markdown",
   "metadata": {},
   "source": [
    "### Run FLOWFarm - Bastankhah Model"
   ]
  },
  {
   "cell_type": "code",
   "execution_count": 13,
   "metadata": {},
   "outputs": [
    {
     "ename": "LoadError",
     "evalue": "TaskFailedException:\nDomainError with -0.02163623673316617:\nsqrt will only return a complex result if called with a complex argument. Try sqrt(Complex(x)).\nthrow_complex_domainerror(::Symbol, ::Float64) at .\\math.jl:33\nsqrt at .\\math.jl:573 [inlined]\n_bpa_theta_0 at C:\\Users\\coy\\.julia\\dev\\FlowFarm\\src\\wake_deflection_models.jl:92 [inlined]\nwake_deflection_model(::Float64, ::Float64, ::Float64, ::Array{Float64,1}, ::Array{Float64,1}, ::Array{Float64,1}, ::Int64, ::Array{Float64,1}, ::Array{Float64,1}, ::FlowFarm.GaussYawDeflection{Float64}) at C:\\Users\\coy\\.julia\\dev\\FlowFarm\\src\\wake_deflection_models.jl:129\npoint_velocity(::Float64, ::Float64, ::Float64, ::Array{Float64,1}, ::Array{Float64,1}, ::Array{Float64,1}, ::Array{Float64,1}, ::Array{Float64,1}, ::Array{Float64,1}, ::Array{Float64,1}, ::Array{Float64,1}, ::Array{Float64,1}, ::Array{Int64,1}, ::Array{Float64,1}, ::FlowFarm.DiscretizedWindResource{Array{Float64,1},Float64,FlowFarm.PowerLawWindShear{Float64}}, ::FlowFarm.WindFarmModelSet{FlowFarm.GaussYaw{Float64,Array{Float64,1}},FlowFarm.GaussYawDeflection{Float64},FlowFarm.LinearLocalVelocitySuperposition,FlowFarm.LocalTIModelMaxTI{Float64}}; wind_farm_state_id::Int64, downwind_turbine_id::Int64) at C:\\Users\\coy\\.julia\\dev\\FlowFarm\\src\\general_models.jl:128\nturbine_velocities_one_direction(::Array{Float64,1}, ::Array{Float64,1}, ::Array{Float64,1}, ::Array{Float64,1}, ::Array{Float64,1}, ::Array{Float64,1}, ::Array{Int64,1}, ::Array{FlowFarm.ThrustModelCtPoints{Array{Float64,1}},1}, ::Array{Float64,1}, ::Array{Float64,1}, ::FlowFarm.DiscretizedWindResource{Array{Float64,1},Float64,FlowFarm.PowerLawWindShear{Float64}}, ::FlowFarm.WindFarmModelSet{FlowFarm.GaussYaw{Float64,Array{Float64,1}},FlowFarm.GaussYawDeflection{Float64},FlowFarm.LinearLocalVelocitySuperposition,FlowFarm.LocalTIModelMaxTI{Float64}}; wind_farm_state_id::Int64, velocity_only::Bool) at C:\\Users\\coy\\.julia\\dev\\FlowFarm\\src\\general_models.jl:228\ncalculate_state_aep(::Array{Float64,1}, ::Array{Float64,1}, ::Array{Float64,1}, ::Array{Float64,1}, ::Array{Float64,1}, ::Array{Float64,1}, ::Array{FlowFarm.ThrustModelCtPoints{Array{Float64,1}},1}, ::Array{Float64,1}, ::Array{Float64,1}, ::Array{Float64,1}, ::Array{Float64,1}, ::Array{Float64,1}, ::Array{FlowFarm.PowerModelCpPoints{Array{Float64,1},Int64},1}, ::Array{Float64,1}, ::Array{Float64,1}, ::FlowFarm.DiscretizedWindResource{Array{Float64,1},Float64,FlowFarm.PowerLawWindShear{Float64}}, ::FlowFarm.WindFarmModelSet{FlowFarm.GaussYaw{Float64,Array{Float64,1}},FlowFarm.GaussYawDeflection{Float64},FlowFarm.LinearLocalVelocitySuperposition,FlowFarm.LocalTIModelMaxTI{Float64}}; wind_farm_state_id::Int64, hours_per_year::Float64, velocity_only::Bool) at C:\\Users\\coy\\.julia\\dev\\FlowFarm\\src\\power_models.jl:438\nmacro expansion at C:\\Users\\coy\\.julia\\dev\\FlowFarm\\src\\power_models.jl:521 [inlined]\n(::FlowFarm.var\"#23#25\"{Array{Float64,1},Array{Float64,1},Float64,Array{Float64,1},Array{Float64,1},Array{Float64,1},Array{Float64,1},Array{Float64,1},Array{Float64,1},Array{FlowFarm.ThrustModelCtPoints{Array{Float64,1}},1},Array{Float64,1},Array{Float64,1},Array{Float64,1},Array{Float64,1},Array{Float64,1},FlowFarm.DiscretizedWindResource{Array{Float64,1},Float64,FlowFarm.PowerLawWindShear{Float64}},Array{FlowFarm.PowerModelCpPoints{Array{Float64,1},Int64},1},FlowFarm.WindFarmModelSet{FlowFarm.GaussYaw{Float64,Array{Float64,1}},FlowFarm.GaussYawDeflection{Float64},FlowFarm.LinearLocalVelocitySuperposition,FlowFarm.LocalTIModelMaxTI{Float64}}})(::typeof(+), ::UnitRange{Int64}, ::Int64, ::Int64) at C:\\buildbot\\worker\\package_win64\\build\\usr\\share\\julia\\stdlib\\v1.5\\Distributed\\src\\macros.jl:289\n#137 at C:\\buildbot\\worker\\package_win64\\build\\usr\\share\\julia\\stdlib\\v1.5\\Distributed\\src\\remotecall.jl:354 [inlined]\nrun_work_thunk(::Distributed.var\"#137#138\"{FlowFarm.var\"#23#25\"{Array{Float64,1},Array{Float64,1},Float64,Array{Float64,1},Array{Float64,1},Array{Float64,1},Array{Float64,1},Array{Float64,1},Array{Float64,1},Array{FlowFarm.ThrustModelCtPoints{Array{Float64,1}},1},Array{Float64,1},Array{Float64,1},Array{Float64,1},Array{Float64,1},Array{Float64,1},FlowFarm.DiscretizedWindResource{Array{Float64,1},Float64,FlowFarm.PowerLawWindShear{Float64}},Array{FlowFarm.PowerModelCpPoints{Array{Float64,1},Int64},1},FlowFarm.WindFarmModelSet{FlowFarm.GaussYaw{Float64,Array{Float64,1}},FlowFarm.GaussYawDeflection{Float64},FlowFarm.LinearLocalVelocitySuperposition,FlowFarm.LocalTIModelMaxTI{Float64}}},Tuple{typeof(+),UnitRange{Int64},Int64,Int64},Base.Iterators.Pairs{Union{},Union{},Tuple{},NamedTuple{(),Tuple{}}}}, ::Bool) at C:\\buildbot\\worker\\package_win64\\build\\usr\\share\\julia\\stdlib\\v1.5\\Distributed\\src\\process_messages.jl:79\nremotecall_fetch(::Function, ::Distributed.LocalProcess, ::Function, ::Vararg{Any,N} where N; kwargs::Base.Iterators.Pairs{Union{},Union{},Tuple{},NamedTuple{(),Tuple{}}}) at C:\\buildbot\\worker\\package_win64\\build\\usr\\share\\julia\\stdlib\\v1.5\\Distributed\\src\\remotecall.jl:379\nremotecall_fetch(::Function, ::Distributed.LocalProcess, ::Function, ::Vararg{Any,N} where N) at C:\\buildbot\\worker\\package_win64\\build\\usr\\share\\julia\\stdlib\\v1.5\\Distributed\\src\\remotecall.jl:379\nremotecall_fetch(::Function, ::Int64, ::Function, ::Vararg{Any,N} where N; kwargs::Base.Iterators.Pairs{Union{},Union{},Tuple{},NamedTuple{(),Tuple{}}}) at C:\\buildbot\\worker\\package_win64\\build\\usr\\share\\julia\\stdlib\\v1.5\\Distributed\\src\\remotecall.jl:421\nremotecall_fetch at C:\\buildbot\\worker\\package_win64\\build\\usr\\share\\julia\\stdlib\\v1.5\\Distributed\\src\\remotecall.jl:421 [inlined]\n(::Distributed.var\"#157#158\"{typeof(+),FlowFarm.var\"#23#25\"{Array{Float64,1},Array{Float64,1},Float64,Array{Float64,1},Array{Float64,1},Array{Float64,1},Array{Float64,1},Array{Float64,1},Array{Float64,1},Array{FlowFarm.ThrustModelCtPoints{Array{Float64,1}},1},Array{Float64,1},Array{Float64,1},Array{Float64,1},Array{Float64,1},Array{Float64,1},FlowFarm.DiscretizedWindResource{Array{Float64,1},Float64,FlowFarm.PowerLawWindShear{Float64}},Array{FlowFarm.PowerModelCpPoints{Array{Float64,1},Int64},1},FlowFarm.WindFarmModelSet{FlowFarm.GaussYaw{Float64,Array{Float64,1}},FlowFarm.GaussYawDeflection{Float64},FlowFarm.LinearLocalVelocitySuperposition,FlowFarm.LocalTIModelMaxTI{Float64}}},UnitRange{Int64},Array{UnitRange{Int64},1},Int64,Int64})() at C:\\buildbot\\worker\\package_win64\\build\\usr\\share\\julia\\stdlib\\v1.5\\Distributed\\src\\macros.jl:269\nStacktrace:\n [1] remotecall_fetch(::Function, ::Distributed.LocalProcess, ::Function, ::Vararg{Any,N} where N; kwargs::Base.Iterators.Pairs{Union{},Union{},Tuple{},NamedTuple{(),Tuple{}}}) at C:\\buildbot\\worker\\package_win64\\build\\usr\\share\\julia\\stdlib\\v1.5\\Distributed\\src\\remotecall.jl:380\n [2] remotecall_fetch(::Function, ::Distributed.LocalProcess, ::Function, ::Vararg{Any,N} where N) at C:\\buildbot\\worker\\package_win64\\build\\usr\\share\\julia\\stdlib\\v1.5\\Distributed\\src\\remotecall.jl:379\n [3] remotecall_fetch(::Function, ::Int64, ::Function, ::Vararg{Any,N} where N; kwargs::Base.Iterators.Pairs{Union{},Union{},Tuple{},NamedTuple{(),Tuple{}}}) at C:\\buildbot\\worker\\package_win64\\build\\usr\\share\\julia\\stdlib\\v1.5\\Distributed\\src\\remotecall.jl:421\n [4] remotecall_fetch at C:\\buildbot\\worker\\package_win64\\build\\usr\\share\\julia\\stdlib\\v1.5\\Distributed\\src\\remotecall.jl:421 [inlined]\n [5] (::Distributed.var\"#157#158\"{typeof(+),FlowFarm.var\"#23#25\"{Array{Float64,1},Array{Float64,1},Float64,Array{Float64,1},Array{Float64,1},Array{Float64,1},Array{Float64,1},Array{Float64,1},Array{Float64,1},Array{FlowFarm.ThrustModelCtPoints{Array{Float64,1}},1},Array{Float64,1},Array{Float64,1},Array{Float64,1},Array{Float64,1},Array{Float64,1},FlowFarm.DiscretizedWindResource{Array{Float64,1},Float64,FlowFarm.PowerLawWindShear{Float64}},Array{FlowFarm.PowerModelCpPoints{Array{Float64,1},Int64},1},FlowFarm.WindFarmModelSet{FlowFarm.GaussYaw{Float64,Array{Float64,1}},FlowFarm.GaussYawDeflection{Float64},FlowFarm.LinearLocalVelocitySuperposition,FlowFarm.LocalTIModelMaxTI{Float64}}},UnitRange{Int64},Array{UnitRange{Int64},1},Int64,Int64})() at C:\\buildbot\\worker\\package_win64\\build\\usr\\share\\julia\\stdlib\\v1.5\\Distributed\\src\\macros.jl:269",
     "output_type": "error",
     "traceback": [
      "TaskFailedException:\nDomainError with -0.02163623673316617:\nsqrt will only return a complex result if called with a complex argument. Try sqrt(Complex(x)).\nthrow_complex_domainerror(::Symbol, ::Float64) at .\\math.jl:33\nsqrt at .\\math.jl:573 [inlined]\n_bpa_theta_0 at C:\\Users\\coy\\.julia\\dev\\FlowFarm\\src\\wake_deflection_models.jl:92 [inlined]\nwake_deflection_model(::Float64, ::Float64, ::Float64, ::Array{Float64,1}, ::Array{Float64,1}, ::Array{Float64,1}, ::Int64, ::Array{Float64,1}, ::Array{Float64,1}, ::FlowFarm.GaussYawDeflection{Float64}) at C:\\Users\\coy\\.julia\\dev\\FlowFarm\\src\\wake_deflection_models.jl:129\npoint_velocity(::Float64, ::Float64, ::Float64, ::Array{Float64,1}, ::Array{Float64,1}, ::Array{Float64,1}, ::Array{Float64,1}, ::Array{Float64,1}, ::Array{Float64,1}, ::Array{Float64,1}, ::Array{Float64,1}, ::Array{Float64,1}, ::Array{Int64,1}, ::Array{Float64,1}, ::FlowFarm.DiscretizedWindResource{Array{Float64,1},Float64,FlowFarm.PowerLawWindShear{Float64}}, ::FlowFarm.WindFarmModelSet{FlowFarm.GaussYaw{Float64,Array{Float64,1}},FlowFarm.GaussYawDeflection{Float64},FlowFarm.LinearLocalVelocitySuperposition,FlowFarm.LocalTIModelMaxTI{Float64}}; wind_farm_state_id::Int64, downwind_turbine_id::Int64) at C:\\Users\\coy\\.julia\\dev\\FlowFarm\\src\\general_models.jl:128\nturbine_velocities_one_direction(::Array{Float64,1}, ::Array{Float64,1}, ::Array{Float64,1}, ::Array{Float64,1}, ::Array{Float64,1}, ::Array{Float64,1}, ::Array{Int64,1}, ::Array{FlowFarm.ThrustModelCtPoints{Array{Float64,1}},1}, ::Array{Float64,1}, ::Array{Float64,1}, ::FlowFarm.DiscretizedWindResource{Array{Float64,1},Float64,FlowFarm.PowerLawWindShear{Float64}}, ::FlowFarm.WindFarmModelSet{FlowFarm.GaussYaw{Float64,Array{Float64,1}},FlowFarm.GaussYawDeflection{Float64},FlowFarm.LinearLocalVelocitySuperposition,FlowFarm.LocalTIModelMaxTI{Float64}}; wind_farm_state_id::Int64, velocity_only::Bool) at C:\\Users\\coy\\.julia\\dev\\FlowFarm\\src\\general_models.jl:228\ncalculate_state_aep(::Array{Float64,1}, ::Array{Float64,1}, ::Array{Float64,1}, ::Array{Float64,1}, ::Array{Float64,1}, ::Array{Float64,1}, ::Array{FlowFarm.ThrustModelCtPoints{Array{Float64,1}},1}, ::Array{Float64,1}, ::Array{Float64,1}, ::Array{Float64,1}, ::Array{Float64,1}, ::Array{Float64,1}, ::Array{FlowFarm.PowerModelCpPoints{Array{Float64,1},Int64},1}, ::Array{Float64,1}, ::Array{Float64,1}, ::FlowFarm.DiscretizedWindResource{Array{Float64,1},Float64,FlowFarm.PowerLawWindShear{Float64}}, ::FlowFarm.WindFarmModelSet{FlowFarm.GaussYaw{Float64,Array{Float64,1}},FlowFarm.GaussYawDeflection{Float64},FlowFarm.LinearLocalVelocitySuperposition,FlowFarm.LocalTIModelMaxTI{Float64}}; wind_farm_state_id::Int64, hours_per_year::Float64, velocity_only::Bool) at C:\\Users\\coy\\.julia\\dev\\FlowFarm\\src\\power_models.jl:438\nmacro expansion at C:\\Users\\coy\\.julia\\dev\\FlowFarm\\src\\power_models.jl:521 [inlined]\n(::FlowFarm.var\"#23#25\"{Array{Float64,1},Array{Float64,1},Float64,Array{Float64,1},Array{Float64,1},Array{Float64,1},Array{Float64,1},Array{Float64,1},Array{Float64,1},Array{FlowFarm.ThrustModelCtPoints{Array{Float64,1}},1},Array{Float64,1},Array{Float64,1},Array{Float64,1},Array{Float64,1},Array{Float64,1},FlowFarm.DiscretizedWindResource{Array{Float64,1},Float64,FlowFarm.PowerLawWindShear{Float64}},Array{FlowFarm.PowerModelCpPoints{Array{Float64,1},Int64},1},FlowFarm.WindFarmModelSet{FlowFarm.GaussYaw{Float64,Array{Float64,1}},FlowFarm.GaussYawDeflection{Float64},FlowFarm.LinearLocalVelocitySuperposition,FlowFarm.LocalTIModelMaxTI{Float64}}})(::typeof(+), ::UnitRange{Int64}, ::Int64, ::Int64) at C:\\buildbot\\worker\\package_win64\\build\\usr\\share\\julia\\stdlib\\v1.5\\Distributed\\src\\macros.jl:289\n#137 at C:\\buildbot\\worker\\package_win64\\build\\usr\\share\\julia\\stdlib\\v1.5\\Distributed\\src\\remotecall.jl:354 [inlined]\nrun_work_thunk(::Distributed.var\"#137#138\"{FlowFarm.var\"#23#25\"{Array{Float64,1},Array{Float64,1},Float64,Array{Float64,1},Array{Float64,1},Array{Float64,1},Array{Float64,1},Array{Float64,1},Array{Float64,1},Array{FlowFarm.ThrustModelCtPoints{Array{Float64,1}},1},Array{Float64,1},Array{Float64,1},Array{Float64,1},Array{Float64,1},Array{Float64,1},FlowFarm.DiscretizedWindResource{Array{Float64,1},Float64,FlowFarm.PowerLawWindShear{Float64}},Array{FlowFarm.PowerModelCpPoints{Array{Float64,1},Int64},1},FlowFarm.WindFarmModelSet{FlowFarm.GaussYaw{Float64,Array{Float64,1}},FlowFarm.GaussYawDeflection{Float64},FlowFarm.LinearLocalVelocitySuperposition,FlowFarm.LocalTIModelMaxTI{Float64}}},Tuple{typeof(+),UnitRange{Int64},Int64,Int64},Base.Iterators.Pairs{Union{},Union{},Tuple{},NamedTuple{(),Tuple{}}}}, ::Bool) at C:\\buildbot\\worker\\package_win64\\build\\usr\\share\\julia\\stdlib\\v1.5\\Distributed\\src\\process_messages.jl:79\nremotecall_fetch(::Function, ::Distributed.LocalProcess, ::Function, ::Vararg{Any,N} where N; kwargs::Base.Iterators.Pairs{Union{},Union{},Tuple{},NamedTuple{(),Tuple{}}}) at C:\\buildbot\\worker\\package_win64\\build\\usr\\share\\julia\\stdlib\\v1.5\\Distributed\\src\\remotecall.jl:379\nremotecall_fetch(::Function, ::Distributed.LocalProcess, ::Function, ::Vararg{Any,N} where N) at C:\\buildbot\\worker\\package_win64\\build\\usr\\share\\julia\\stdlib\\v1.5\\Distributed\\src\\remotecall.jl:379\nremotecall_fetch(::Function, ::Int64, ::Function, ::Vararg{Any,N} where N; kwargs::Base.Iterators.Pairs{Union{},Union{},Tuple{},NamedTuple{(),Tuple{}}}) at C:\\buildbot\\worker\\package_win64\\build\\usr\\share\\julia\\stdlib\\v1.5\\Distributed\\src\\remotecall.jl:421\nremotecall_fetch at C:\\buildbot\\worker\\package_win64\\build\\usr\\share\\julia\\stdlib\\v1.5\\Distributed\\src\\remotecall.jl:421 [inlined]\n(::Distributed.var\"#157#158\"{typeof(+),FlowFarm.var\"#23#25\"{Array{Float64,1},Array{Float64,1},Float64,Array{Float64,1},Array{Float64,1},Array{Float64,1},Array{Float64,1},Array{Float64,1},Array{Float64,1},Array{FlowFarm.ThrustModelCtPoints{Array{Float64,1}},1},Array{Float64,1},Array{Float64,1},Array{Float64,1},Array{Float64,1},Array{Float64,1},FlowFarm.DiscretizedWindResource{Array{Float64,1},Float64,FlowFarm.PowerLawWindShear{Float64}},Array{FlowFarm.PowerModelCpPoints{Array{Float64,1},Int64},1},FlowFarm.WindFarmModelSet{FlowFarm.GaussYaw{Float64,Array{Float64,1}},FlowFarm.GaussYawDeflection{Float64},FlowFarm.LinearLocalVelocitySuperposition,FlowFarm.LocalTIModelMaxTI{Float64}}},UnitRange{Int64},Array{UnitRange{Int64},1},Int64,Int64})() at C:\\buildbot\\worker\\package_win64\\build\\usr\\share\\julia\\stdlib\\v1.5\\Distributed\\src\\macros.jl:269\nStacktrace:\n [1] remotecall_fetch(::Function, ::Distributed.LocalProcess, ::Function, ::Vararg{Any,N} where N; kwargs::Base.Iterators.Pairs{Union{},Union{},Tuple{},NamedTuple{(),Tuple{}}}) at C:\\buildbot\\worker\\package_win64\\build\\usr\\share\\julia\\stdlib\\v1.5\\Distributed\\src\\remotecall.jl:380\n [2] remotecall_fetch(::Function, ::Distributed.LocalProcess, ::Function, ::Vararg{Any,N} where N) at C:\\buildbot\\worker\\package_win64\\build\\usr\\share\\julia\\stdlib\\v1.5\\Distributed\\src\\remotecall.jl:379\n [3] remotecall_fetch(::Function, ::Int64, ::Function, ::Vararg{Any,N} where N; kwargs::Base.Iterators.Pairs{Union{},Union{},Tuple{},NamedTuple{(),Tuple{}}}) at C:\\buildbot\\worker\\package_win64\\build\\usr\\share\\julia\\stdlib\\v1.5\\Distributed\\src\\remotecall.jl:421\n [4] remotecall_fetch at C:\\buildbot\\worker\\package_win64\\build\\usr\\share\\julia\\stdlib\\v1.5\\Distributed\\src\\remotecall.jl:421 [inlined]\n [5] (::Distributed.var\"#157#158\"{typeof(+),FlowFarm.var\"#23#25\"{Array{Float64,1},Array{Float64,1},Float64,Array{Float64,1},Array{Float64,1},Array{Float64,1},Array{Float64,1},Array{Float64,1},Array{Float64,1},Array{FlowFarm.ThrustModelCtPoints{Array{Float64,1}},1},Array{Float64,1},Array{Float64,1},Array{Float64,1},Array{Float64,1},Array{Float64,1},FlowFarm.DiscretizedWindResource{Array{Float64,1},Float64,FlowFarm.PowerLawWindShear{Float64}},Array{FlowFarm.PowerModelCpPoints{Array{Float64,1},Int64},1},FlowFarm.WindFarmModelSet{FlowFarm.GaussYaw{Float64,Array{Float64,1}},FlowFarm.GaussYawDeflection{Float64},FlowFarm.LinearLocalVelocitySuperposition,FlowFarm.LocalTIModelMaxTI{Float64}}},UnitRange{Int64},Array{UnitRange{Int64},1},Int64,Int64})() at C:\\buildbot\\worker\\package_win64\\build\\usr\\share\\julia\\stdlib\\v1.5\\Distributed\\src\\macros.jl:269",
      "",
      "Stacktrace:",
      " [1] wait at .\\task.jl:267 [inlined]",
      " [2] fetch at .\\task.jl:282 [inlined]",
      " [3] iterate at .\\generator.jl:47 [inlined]",
      " [4] collect(::Base.Generator{Array{Task,1},typeof(fetch)}) at .\\array.jl:686",
      " [5] preduce(::Function, ::Function, ::UnitRange{Int64}) at C:\\buildbot\\worker\\package_win64\\build\\usr\\share\\julia\\stdlib\\v1.5\\Distributed\\src\\macros.jl:273",
      " [6] macro expansion at .\\task.jl:332 [inlined]",
      " [7] calculate_aep(::Array{Float64,1}, ::Array{Float64,1}, ::Array{Float64,1}, ::Array{Float64,1}, ::Array{Float64,1}, ::Array{Float64,1}, ::Array{FlowFarm.ThrustModelCtPoints{Array{Float64,1}},1}, ::Array{Float64,1}, ::Array{Float64,1}, ::Array{Float64,1}, ::Array{Float64,1}, ::Array{Float64,1}, ::FlowFarm.DiscretizedWindResource{Array{Float64,1},Float64,FlowFarm.PowerLawWindShear{Float64}}, ::Array{FlowFarm.PowerModelCpPoints{Array{Float64,1},Int64},1}, ::FlowFarm.WindFarmModelSet{FlowFarm.GaussYaw{Float64,Array{Float64,1}},FlowFarm.GaussYawDeflection{Float64},FlowFarm.LinearLocalVelocitySuperposition,FlowFarm.LocalTIModelMaxTI{Float64}}; rotor_sample_points_y::Array{Float64,1}, rotor_sample_points_z::Array{Float64,1}, hours_per_year::Float64) at C:\\Users\\coy\\.julia\\dev\\FlowFarm\\src\\power_models.jl:520",
      " [8] top-level scope at In[13]:7",
      " [9] include_string(::Function, ::Module, ::String, ::String) at .\\loading.jl:1091"
     ]
    }
   ],
   "source": [
    "wakedeficitmodel = ff.GaussYaw()\n",
    "wakedeflectionmodel = ff.GaussYawDeflection()\n",
    "wakecombinationmodel = ff.LinearLocalVelocitySuperposition()\n",
    "localtimodel = ff.LocalTIModelMaxTI()\n",
    "model_set = ff.WindFarmModelSet(wakedeficitmodel, wakedeflectionmodel, wakecombinationmodel, localtimodel)\n",
    "\n",
    "AEPB = ff.calculate_aep(turbine_x, turbine_y, turbine_z, rotor_diameter,\n",
    "                hub_height, turbine_yaw, ct_models, generator_efficiency, cut_in_speed,\n",
    "                cut_out_speed, rated_speed, rated_power, windresource, power_models, model_set,\n",
    "                rotor_sample_points_y=rotor_points_y,rotor_sample_points_z=rotor_points_z)"
   ]
  },
  {
   "cell_type": "markdown",
   "metadata": {},
   "source": [
    "### Run FLOWFarm MultiZone Model"
   ]
  },
  {
   "cell_type": "code",
   "execution_count": 14,
   "metadata": {},
   "outputs": [
    {
     "ename": "LoadError",
     "evalue": "MethodError: no method matching FlowFarm.Multizone(::Float64, ::Array{Float64,2}, ::Array{Float64,2}, ::Float64, ::Float64)\nClosest candidates are:\n  FlowFarm.Multizone(::ATF, ::TF, !Matched::ATF, !Matched::TF, !Matched::TF) where {ATF, TF} at C:\\Users\\coy\\.julia\\dev\\FlowFarm\\src\\wake_deficit_models.jl:47",
     "output_type": "error",
     "traceback": [
      "MethodError: no method matching FlowFarm.Multizone(::Float64, ::Array{Float64,2}, ::Array{Float64,2}, ::Float64, ::Float64)\nClosest candidates are:\n  FlowFarm.Multizone(::ATF, ::TF, !Matched::ATF, !Matched::TF, !Matched::TF) where {ATF, TF} at C:\\Users\\coy\\.julia\\dev\\FlowFarm\\src\\wake_deficit_models.jl:47",
      "",
      "Stacktrace:",
      " [1] FlowFarm.Multizone() at C:\\Users\\coy\\.julia\\dev\\FlowFarm\\src\\wake_deficit_models.jl:53",
      " [2] top-level scope at In[14]:1",
      " [3] include_string(::Function, ::Module, ::String, ::String) at .\\loading.jl:1091"
     ]
    }
   ],
   "source": [
    "wakedeficitmodel = ff.Multizone()\n",
    "wakedeflectionmodel = ff.JiminezYawDeflection()\n",
    "wakecombinationmodel = ff.SumOfSquaresLocalVelocitySuperposition()\n",
    "localtimodel = ff.LocalTIModelNoLocalTI()\n",
    "model_set = ff.WindFarmModelSet(wakedeficitmodel, wakedeflectionmodel, wakecombinationmodel, localtimodel)\n",
    "\n",
    "AEPM = ff.calculate_aep(turbine_x, turbine_y, turbine_z, rotor_diameter,\n",
    "                hub_height, turbine_yaw, ct_models, generator_efficiency, cut_in_speed,\n",
    "                cut_out_speed, rated_speed, rated_power, windresource, power_models, model_set,\n",
    "                rotor_sample_points_y=rotor_points_y,rotor_sample_points_z=rotor_points_z)"
   ]
  },
  {
   "cell_type": "markdown",
   "metadata": {},
   "source": [
    "### Compare TIP vs TopHat"
   ]
  },
  {
   "cell_type": "code",
   "execution_count": 15,
   "metadata": {
    "scrolled": true
   },
   "outputs": [
    {
     "ename": "LoadError",
     "evalue": "UndefVarError: AEPTIP not defined",
     "output_type": "error",
     "traceback": [
      "UndefVarError: AEPTIP not defined",
      "",
      "Stacktrace:",
      " [1] top-level scope at In[15]:1",
      " [2] include_string(::Function, ::Module, ::String, ::String) at .\\loading.jl:1091"
     ]
    }
   ],
   "source": [
    "ErrorTIPvsTopHat = 100*(AEPTIP-AEPTH)/AEPTH\n",
    "ErrorTIPvsCosine = 100*(AEPTIP-AEPJC)/AEPJC\n",
    "ErrorTIPvsMultizone = 100*(AEPTIP-AEPM)/AEPM\n",
    "ErrorTIPvsBastankhah = 100*(AEPTIP-AEPB)/AEPB\n",
    "println(\"TIP AEP: \", AEPTIP)\n",
    "println(\"Jensen Top Hat AEP:   \", AEPTH)\n",
    "println(\"Jensen Cosine AEP:   \", AEPJC)\n",
    "println(\"Multi-Zone AEP:   \", AEPM)\n",
    "println(\"Bastankhah AEP:   \", AEPB)\n",
    "@printf(\"Error vs Jensen Top Hat:  %.3f%%\\n\", ErrorTIPvsTopHat)\n",
    "@printf(\"Error vs Jensen Cosine:   %.3f%%\\n\", ErrorTIPvsCosine)\n",
    "@printf(\"Error vs Multi-Zone:  %.3f%%\\n\", ErrorTIPvsMultizone)\n",
    "@printf(\"Error vs Bastankhah:   %.3f%%\\n\", ErrorTIPvsBastankhah)"
   ]
  },
  {
   "cell_type": "code",
   "execution_count": null,
   "metadata": {},
   "outputs": [],
   "source": []
  }
 ],
 "metadata": {
  "kernelspec": {
   "display_name": "Julia 1.5.3",
   "language": "julia",
   "name": "julia-1.5"
  },
  "language_info": {
   "file_extension": ".jl",
   "mimetype": "application/julia",
   "name": "julia",
   "version": "1.5.3"
  }
 },
 "nbformat": 4,
 "nbformat_minor": 4
}
