{
 "cells": [
  {
   "cell_type": "code",
   "execution_count": 126,
   "metadata": {},
   "outputs": [
    {
     "data": {
      "text/plain": [
       "FlowFarm"
      ]
     },
     "execution_count": 126,
     "metadata": {},
     "output_type": "execute_result"
    }
   ],
   "source": [
    "using DelimitedFiles \n",
    "using PyPlot\n",
    "using Printf\n",
    "import FlowFarm; const ff = FlowFarm"
   ]
  },
  {
   "cell_type": "markdown",
   "metadata": {},
   "source": [
    "# Amalia"
   ]
  },
  {
   "cell_type": "markdown",
   "metadata": {},
   "source": [
    "## 36 directions"
   ]
  },
  {
   "cell_type": "markdown",
   "metadata": {},
   "source": [
    "### Set Up"
   ]
  },
  {
   "cell_type": "code",
   "execution_count": 127,
   "metadata": {},
   "outputs": [],
   "source": [
    "# include case information\n",
    "include(\"./inputfiles/model_set_10_amalia_wind_park_36dir.jl\");"
   ]
  },
  {
   "cell_type": "markdown",
   "metadata": {},
   "source": [
    "### Run TIP Model"
   ]
  },
  {
   "cell_type": "code",
   "execution_count": 128,
   "metadata": {},
   "outputs": [
    {
     "data": {
      "text/plain": [
       "9.02390150255179e11"
      ]
     },
     "execution_count": 128,
     "metadata": {},
     "output_type": "execute_result"
    }
   ],
   "source": [
    "AEPTIP = ff.tip_get_aep(turbine_x,turbine_y,wind_data,cpdata,ctdata, pstep=0.01, prated=rated_power[1], u_cut_in=cut_in_speed[1], u_cut_out=cut_out_speed[1], density=air_density, r0=diam/2.0, alpha=0.01)\n",
    "\n",
    "\n"
   ]
  },
  {
   "cell_type": "markdown",
   "metadata": {},
   "source": [
    "### Run FLOWFarm - Jensen TopHat Model"
   ]
  },
  {
   "cell_type": "code",
   "execution_count": 129,
   "metadata": {},
   "outputs": [
    {
     "data": {
      "text/plain": [
       "9.86846796586615e11"
      ]
     },
     "execution_count": 129,
     "metadata": {},
     "output_type": "execute_result"
    }
   ],
   "source": [
    "wakedeficitmodel = ff.JensenTopHat()\n",
    "wakedeflectionmodel = ff.JiminezYawDeflection()\n",
    "wakecombinationmodel = ff.SumOfSquaresLocalVelocitySuperposition()\n",
    "localtimodel = ff.LocalTIModelNoLocalTI()\n",
    "model_set = ff.WindFarmModelSet(wakedeficitmodel, wakedeflectionmodel, wakecombinationmodel, localtimodel)\n",
    "\n",
    "AEPJTH = ff.calculate_aep(turbine_x, turbine_y, turbine_z, rotor_diameter,\n",
    "                hub_height, turbine_yaw, ct_models, generator_efficiency, cut_in_speed,\n",
    "                cut_out_speed, rated_speed, rated_power, windresource, power_models, model_set,\n",
    "                rotor_sample_points_y=rotor_points_y,rotor_sample_points_z=rotor_points_z)"
   ]
  },
  {
   "cell_type": "markdown",
   "metadata": {},
   "source": [
    "### Run FLOWFarm - Jensen Cosine Model"
   ]
  },
  {
   "cell_type": "code",
   "execution_count": 130,
   "metadata": {},
   "outputs": [
    {
     "data": {
      "text/plain": [
       "4.9790620008753064e11"
      ]
     },
     "execution_count": 130,
     "metadata": {},
     "output_type": "execute_result"
    }
   ],
   "source": [
    "wakedeficitmodel = ff.JensenCosine()\n",
    "wakedeflectionmodel = ff.JiminezYawDeflection()\n",
    "wakecombinationmodel = ff.SumOfSquaresLocalVelocitySuperposition()\n",
    "localtimodel = ff.LocalTIModelNoLocalTI()\n",
    "model_set = ff.WindFarmModelSet(wakedeficitmodel, wakedeflectionmodel, wakecombinationmodel, localtimodel)\n",
    "\n",
    "AEPJC = ff.calculate_aep(turbine_x, turbine_y, turbine_z, rotor_diameter,\n",
    "                hub_height, turbine_yaw, ct_models, generator_efficiency, cut_in_speed,\n",
    "                cut_out_speed, rated_speed, rated_power, windresource, power_models, model_set,\n",
    "                rotor_sample_points_y=rotor_points_y,rotor_sample_points_z=rotor_points_z)"
   ]
  },
  {
   "cell_type": "markdown",
   "metadata": {},
   "source": [
    "### Run FLOWFarm - Bastankhah Model"
   ]
  },
  {
   "cell_type": "code",
   "execution_count": 131,
   "metadata": {},
   "outputs": [
    {
     "data": {
      "text/plain": [
       "7.148770843360923e11"
      ]
     },
     "execution_count": 131,
     "metadata": {},
     "output_type": "execute_result"
    }
   ],
   "source": [
    "wakedeficitmodel = ff.GaussYaw()\n",
    "wakedeflectionmodel = ff.GaussYawDeflection()\n",
    "wakecombinationmodel = ff.LinearLocalVelocitySuperposition()\n",
    "localtimodel = ff.LocalTIModelMaxTI()\n",
    "model_set = ff.WindFarmModelSet(wakedeficitmodel, wakedeflectionmodel, wakecombinationmodel, localtimodel)\n",
    "\n",
    "AEPB = ff.calculate_aep(turbine_x, turbine_y, turbine_z, rotor_diameter,\n",
    "                hub_height, turbine_yaw, ct_models, generator_efficiency, cut_in_speed,\n",
    "                cut_out_speed, rated_speed, rated_power, windresource, power_models, model_set,\n",
    "                rotor_sample_points_y=rotor_points_y,rotor_sample_points_z=rotor_points_z)"
   ]
  },
  {
   "cell_type": "markdown",
   "metadata": {},
   "source": [
    "### Run FLOWFarm MultiZone Model"
   ]
  },
  {
   "cell_type": "code",
   "execution_count": 132,
   "metadata": {},
   "outputs": [
    {
     "data": {
      "text/plain": [
       "1.0419929594849794e12"
      ]
     },
     "execution_count": 132,
     "metadata": {},
     "output_type": "execute_result"
    }
   ],
   "source": [
    "wakedeficitmodel = ff.Multizone()\n",
    "wakedeflectionmodel = ff.JiminezYawDeflection()\n",
    "wakecombinationmodel = ff.SumOfSquaresLocalVelocitySuperposition()\n",
    "localtimodel = ff.LocalTIModelNoLocalTI()\n",
    "model_set = ff.WindFarmModelSet(wakedeficitmodel, wakedeflectionmodel, wakecombinationmodel, localtimodel)\n",
    "\n",
    "AEPM = ff.calculate_aep(turbine_x, turbine_y, turbine_z, rotor_diameter,\n",
    "                hub_height, turbine_yaw, ct_models, generator_efficiency, cut_in_speed,\n",
    "                cut_out_speed, rated_speed, rated_power, windresource, power_models, model_set,\n",
    "                rotor_sample_points_y=rotor_points_y,rotor_sample_points_z=rotor_points_z)"
   ]
  },
  {
   "cell_type": "markdown",
   "metadata": {},
   "source": [
    "### Compare TIP vs TopHat"
   ]
  },
  {
   "cell_type": "code",
   "execution_count": 133,
   "metadata": {
    "scrolled": true
   },
   "outputs": [
    {
     "name": "stdout",
     "output_type": "stream",
     "text": [
      "TIP AEP: 9.02390150255179e11\n",
      "Jensen Top Hat AEP:   9.86846796586615e11\n",
      "Jensen Cosine AEP:   4.9790620008753064e11\n",
      "Multi-Zone AEP:   1.0419929594849794e12\n",
      "Bastankhah AEP:   7.148770843360923e11\n",
      "Error vs Jensen Top Hat:  -8.56%\n",
      "Error vs Jensen Cosine:   81.24%\n",
      "Error vs Multi-Zone:  -13.40%\n",
      "Error vs Bastankhah:   26.23%\n"
     ]
    }
   ],
   "source": [
    "ErrorTIPvsTopHat = 100*(AEPTIP-AEPJTH)/AEPJTH\n",
    "ErrorTIPvsCosine = 100*(AEPTIP-AEPJC)/AEPJC\n",
    "ErrorTIPvsMultizone = 100*(AEPTIP-AEPM)/AEPM\n",
    "ErrorTIPvsBastankhah = 100*(AEPTIP-AEPB)/AEPB\n",
    "println(\"TIP AEP: \", AEPTIP)\n",
    "println(\"Jensen Top Hat AEP:   \", AEPJTH)\n",
    "println(\"Jensen Cosine AEP:   \", AEPJC)\n",
    "println(\"Multi-Zone AEP:   \", AEPM)\n",
    "println(\"Bastankhah AEP:   \", AEPB)\n",
    "@printf(\"Error vs Jensen Top Hat:  %.2f%%\\n\", ErrorTIPvsTopHat)\n",
    "@printf(\"Error vs Jensen Cosine:   %.2f%%\\n\", ErrorTIPvsCosine)\n",
    "@printf(\"Error vs Multi-Zone:  %.2f%%\\n\", ErrorTIPvsMultizone)\n",
    "@printf(\"Error vs Bastankhah:   %.2f%%\\n\", ErrorTIPvsBastankhah)"
   ]
  },
  {
   "cell_type": "markdown",
   "metadata": {},
   "source": [
    "## 72 directions"
   ]
  },
  {
   "cell_type": "markdown",
   "metadata": {},
   "source": [
    "### Set Up"
   ]
  },
  {
   "cell_type": "code",
   "execution_count": 134,
   "metadata": {},
   "outputs": [],
   "source": [
    "# include case information\n",
    "include(\"./inputfiles/model_set_10_amalia_wind_park_72dir.jl\");"
   ]
  },
  {
   "cell_type": "markdown",
   "metadata": {},
   "source": [
    "### Run TIP Model"
   ]
  },
  {
   "cell_type": "code",
   "execution_count": 135,
   "metadata": {},
   "outputs": [
    {
     "data": {
      "text/plain": [
       "9.126619229740879e11"
      ]
     },
     "execution_count": 135,
     "metadata": {},
     "output_type": "execute_result"
    }
   ],
   "source": [
    "AEPTIP = ff.tip_get_aep(turbine_x,turbine_y,wind_data,cpdata,ctdata, pstep=0.01, prated=rated_power[1], u_cut_in=cut_in_speed[1], u_cut_out=cut_out_speed[1], density=air_density, r0=diam/2.0, alpha=0.01)"
   ]
  },
  {
   "cell_type": "markdown",
   "metadata": {},
   "source": [
    "### Run FLOWFarm - Jensen TopHat Model"
   ]
  },
  {
   "cell_type": "code",
   "execution_count": 136,
   "metadata": {},
   "outputs": [
    {
     "data": {
      "text/plain": [
       "9.884343051400442e11"
      ]
     },
     "execution_count": 136,
     "metadata": {},
     "output_type": "execute_result"
    }
   ],
   "source": [
    "wakedeficitmodel = ff.JensenTopHat()\n",
    "wakedeflectionmodel = ff.JiminezYawDeflection()\n",
    "wakecombinationmodel = ff.SumOfSquaresLocalVelocitySuperposition()\n",
    "localtimodel = ff.LocalTIModelNoLocalTI()\n",
    "model_set = ff.WindFarmModelSet(wakedeficitmodel, wakedeflectionmodel, wakecombinationmodel, localtimodel)\n",
    "\n",
    "AEPJTH = ff.calculate_aep(turbine_x, turbine_y, turbine_z, rotor_diameter,\n",
    "                hub_height, turbine_yaw, ct_models, generator_efficiency, cut_in_speed,\n",
    "                cut_out_speed, rated_speed, rated_power, windresource, power_models, model_set,\n",
    "                rotor_sample_points_y=rotor_points_y,rotor_sample_points_z=rotor_points_z)"
   ]
  },
  {
   "cell_type": "markdown",
   "metadata": {},
   "source": [
    "### Run FLOWFarm - Jensen Cosine Model"
   ]
  },
  {
   "cell_type": "code",
   "execution_count": 137,
   "metadata": {},
   "outputs": [
    {
     "data": {
      "text/plain": [
       "5.040595970872434e11"
      ]
     },
     "execution_count": 137,
     "metadata": {},
     "output_type": "execute_result"
    }
   ],
   "source": [
    "wakedeficitmodel = ff.JensenCosine()\n",
    "wakedeflectionmodel = ff.JiminezYawDeflection()\n",
    "wakecombinationmodel = ff.SumOfSquaresLocalVelocitySuperposition()\n",
    "localtimodel = ff.LocalTIModelNoLocalTI()\n",
    "model_set = ff.WindFarmModelSet(wakedeficitmodel, wakedeflectionmodel, wakecombinationmodel, localtimodel)\n",
    "\n",
    "AEPJC = ff.calculate_aep(turbine_x, turbine_y, turbine_z, rotor_diameter,\n",
    "                hub_height, turbine_yaw, ct_models, generator_efficiency, cut_in_speed,\n",
    "                cut_out_speed, rated_speed, rated_power, windresource, power_models, model_set,\n",
    "                rotor_sample_points_y=rotor_points_y,rotor_sample_points_z=rotor_points_z)"
   ]
  },
  {
   "cell_type": "markdown",
   "metadata": {},
   "source": [
    "### Run FLOWFarm - Bastankhah Model"
   ]
  },
  {
   "cell_type": "code",
   "execution_count": 138,
   "metadata": {},
   "outputs": [
    {
     "data": {
      "text/plain": [
       "7.295660197903009e11"
      ]
     },
     "execution_count": 138,
     "metadata": {},
     "output_type": "execute_result"
    }
   ],
   "source": [
    "wakedeficitmodel = ff.GaussYaw()\n",
    "wakedeflectionmodel = ff.GaussYawDeflection()\n",
    "wakecombinationmodel = ff.LinearLocalVelocitySuperposition()\n",
    "localtimodel = ff.LocalTIModelMaxTI()\n",
    "model_set = ff.WindFarmModelSet(wakedeficitmodel, wakedeflectionmodel, wakecombinationmodel, localtimodel)\n",
    "\n",
    "AEPB = ff.calculate_aep(turbine_x, turbine_y, turbine_z, rotor_diameter,\n",
    "                hub_height, turbine_yaw, ct_models, generator_efficiency, cut_in_speed,\n",
    "                cut_out_speed, rated_speed, rated_power, windresource, power_models, model_set,\n",
    "                rotor_sample_points_y=rotor_points_y,rotor_sample_points_z=rotor_points_z)"
   ]
  },
  {
   "cell_type": "markdown",
   "metadata": {},
   "source": [
    "### Run FLOWFarm MultiZone Model"
   ]
  },
  {
   "cell_type": "code",
   "execution_count": 139,
   "metadata": {},
   "outputs": [
    {
     "data": {
      "text/plain": [
       "1.0471662350436434e12"
      ]
     },
     "execution_count": 139,
     "metadata": {},
     "output_type": "execute_result"
    }
   ],
   "source": [
    "wakedeficitmodel = ff.Multizone()\n",
    "wakedeflectionmodel = ff.JiminezYawDeflection()\n",
    "wakecombinationmodel = ff.SumOfSquaresLocalVelocitySuperposition()\n",
    "localtimodel = ff.LocalTIModelNoLocalTI()\n",
    "model_set = ff.WindFarmModelSet(wakedeficitmodel, wakedeflectionmodel, wakecombinationmodel, localtimodel)\n",
    "\n",
    "AEPM = ff.calculate_aep(turbine_x, turbine_y, turbine_z, rotor_diameter,\n",
    "                hub_height, turbine_yaw, ct_models, generator_efficiency, cut_in_speed,\n",
    "                cut_out_speed, rated_speed, rated_power, windresource, power_models, model_set,\n",
    "                rotor_sample_points_y=rotor_points_y,rotor_sample_points_z=rotor_points_z)"
   ]
  },
  {
   "cell_type": "markdown",
   "metadata": {},
   "source": [
    "### Compare TIP vs TopHat"
   ]
  },
  {
   "cell_type": "code",
   "execution_count": 140,
   "metadata": {
    "scrolled": true
   },
   "outputs": [
    {
     "name": "stdout",
     "output_type": "stream",
     "text": [
      "TIP AEP: 9.126619229740879e11\n",
      "Jensen Top Hat AEP:   9.884343051400442e11\n",
      "Jensen Cosine AEP:   5.040595970872434e11\n",
      "Multi-Zone AEP:   1.0471662350436434e12\n",
      "Bastankhah AEP:   7.295660197903009e11\n",
      "Error vs Jensen Top Hat:  -7.666%\n",
      "Error vs Jensen Cosine:   81.062%\n",
      "Error vs Multi-Zone:  -12.845%\n",
      "Error vs Bastankhah:   25.097%\n"
     ]
    }
   ],
   "source": [
    "ErrorTIPvsTopHat = 100*(AEPTIP-AEPJTH)/AEPJTH\n",
    "ErrorTIPvsCosine = 100*(AEPTIP-AEPJC)/AEPJC\n",
    "ErrorTIPvsMultizone = 100*(AEPTIP-AEPM)/AEPM\n",
    "ErrorTIPvsBastankhah = 100*(AEPTIP-AEPB)/AEPB\n",
    "println(\"TIP AEP: \", AEPTIP)\n",
    "println(\"Jensen Top Hat AEP:   \", AEPJTH)\n",
    "println(\"Jensen Cosine AEP:   \", AEPJC)\n",
    "println(\"Multi-Zone AEP:   \", AEPM)\n",
    "println(\"Bastankhah AEP:   \", AEPB)\n",
    "@printf(\"Error vs Jensen Top Hat:  %.3f%%\\n\", ErrorTIPvsTopHat)\n",
    "@printf(\"Error vs Jensen Cosine:   %.3f%%\\n\", ErrorTIPvsCosine)\n",
    "@printf(\"Error vs Multi-Zone:  %.3f%%\\n\", ErrorTIPvsMultizone)\n",
    "@printf(\"Error vs Bastankhah:   %.3f%%\\n\", ErrorTIPvsBastankhah)"
   ]
  },
  {
   "cell_type": "code",
   "execution_count": null,
   "metadata": {},
   "outputs": [],
   "source": []
  }
 ],
 "metadata": {
  "kernelspec": {
   "display_name": "Julia 1.4.1",
   "language": "julia",
   "name": "julia-1.4"
  },
  "language_info": {
   "file_extension": ".jl",
   "mimetype": "application/julia",
   "name": "julia",
   "version": "1.4.1"
  }
 },
 "nbformat": 4,
 "nbformat_minor": 4
}
